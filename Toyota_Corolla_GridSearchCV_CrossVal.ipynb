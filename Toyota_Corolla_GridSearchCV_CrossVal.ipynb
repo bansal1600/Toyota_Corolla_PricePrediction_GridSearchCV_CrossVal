{
 "cells": [
  {
   "cell_type": "markdown",
   "metadata": {},
   "source": [
    "# Regression Task Project1\n",
    "1. Apply all the regression models you've learned so far. If your model has a scaling parameter(s) use Grid Search to find the best scaling parameter. Use plots and graphs to help you get a better glimpse of the results.\n",
    "2. Then use cross-validation to find average training and testing score.\n",
    "3. Your submission should have at least the following regression models: KNN repressor, linear regression, Ridge, Lasso, polynomial regression, SVM both simple and with kernels (rbf, poly, linear).\n",
    "4. Finally, find the best regressor for this dataset and train your model on the entire dataset using the best parameters and predict the target values for the test_set."
   ]
  },
  {
   "cell_type": "markdown",
   "metadata": {},
   "source": [
    "## In this step we have taken below steps:-\n",
    "> 1. Importing the libraries\n",
    "> 2. Exploratory Data Analysis\n",
    "> 3. Preprocessing\n",
    "> 4. Applying the ML Models for regression first with GridSearch to find best parameter, Second with best parameter, third with cross validation to check training and test score"
   ]
  },
  {
   "cell_type": "markdown",
   "metadata": {},
   "source": [
    "# 1. Importing the libraries"
   ]
  },
  {
   "cell_type": "code",
   "execution_count": 368,
   "metadata": {},
   "outputs": [],
   "source": [
    "import numpy as np\n",
    "import pandas as pd\n",
    "import matplotlib.pyplot as plt\n",
    "from sklearn import linear_model\n",
    "from sklearn.model_selection import train_test_split, GridSearchCV,cross_val_score\n",
    "from sklearn.preprocessing import StandardScaler,PolynomialFeatures, MinMaxScaler\n",
    "from sklearn.svm import SVC\n",
    "from termcolor import colored\n",
    "from sklearn.neighbors import KNeighborsRegressor\n",
    "from sklearn.metrics import mean_squared_error\n",
    "from sklearn.svm import SVR\n",
    "import seaborn as sns"
   ]
  },
  {
   "cell_type": "code",
   "execution_count": 317,
   "metadata": {},
   "outputs": [],
   "source": [
    "data = pd.read_csv(\"ToyotaCorolla.csv\")"
   ]
  },
  {
   "cell_type": "code",
   "execution_count": 318,
   "metadata": {},
   "outputs": [
    {
     "name": "stdout",
     "output_type": "stream",
     "text": [
      "train data size is (1436, 37)\n"
     ]
    }
   ],
   "source": [
    "print(\"train data size is\", data.shape)"
   ]
  },
  {
   "cell_type": "code",
   "execution_count": 319,
   "metadata": {},
   "outputs": [
    {
     "data": {
      "text/html": [
       "<div>\n",
       "<style scoped>\n",
       "    .dataframe tbody tr th:only-of-type {\n",
       "        vertical-align: middle;\n",
       "    }\n",
       "\n",
       "    .dataframe tbody tr th {\n",
       "        vertical-align: top;\n",
       "    }\n",
       "\n",
       "    .dataframe thead th {\n",
       "        text-align: right;\n",
       "    }\n",
       "</style>\n",
       "<table border=\"1\" class=\"dataframe\">\n",
       "  <thead>\n",
       "    <tr style=\"text-align: right;\">\n",
       "      <th></th>\n",
       "      <th>Id</th>\n",
       "      <th>Model</th>\n",
       "      <th>Price</th>\n",
       "      <th>Age_08_04</th>\n",
       "      <th>Mfg_Month</th>\n",
       "      <th>Mfg_Year</th>\n",
       "      <th>KM</th>\n",
       "      <th>Fuel_Type</th>\n",
       "      <th>HP</th>\n",
       "      <th>Met_Color</th>\n",
       "      <th>...</th>\n",
       "      <th>Central_Lock</th>\n",
       "      <th>Powered_Windows</th>\n",
       "      <th>Power_Steering</th>\n",
       "      <th>Radio</th>\n",
       "      <th>Mistlamps</th>\n",
       "      <th>Sport_Model</th>\n",
       "      <th>Backseat_Divider</th>\n",
       "      <th>Metallic_Rim</th>\n",
       "      <th>Radio_cassette</th>\n",
       "      <th>Tow_Bar</th>\n",
       "    </tr>\n",
       "  </thead>\n",
       "  <tbody>\n",
       "    <tr>\n",
       "      <td>0</td>\n",
       "      <td>1</td>\n",
       "      <td>TOYOTA Corolla 2.0 D4D HATCHB TERRA 2/3-Doors</td>\n",
       "      <td>13500</td>\n",
       "      <td>23</td>\n",
       "      <td>10</td>\n",
       "      <td>2002</td>\n",
       "      <td>46986</td>\n",
       "      <td>Diesel</td>\n",
       "      <td>NaN</td>\n",
       "      <td>1</td>\n",
       "      <td>...</td>\n",
       "      <td>1</td>\n",
       "      <td>1</td>\n",
       "      <td>1</td>\n",
       "      <td>0</td>\n",
       "      <td>0</td>\n",
       "      <td>0</td>\n",
       "      <td>1</td>\n",
       "      <td>0</td>\n",
       "      <td>0</td>\n",
       "      <td>0</td>\n",
       "    </tr>\n",
       "    <tr>\n",
       "      <td>1</td>\n",
       "      <td>2</td>\n",
       "      <td>TOYOTA Corolla 2.0 D4D HATCHB TERRA 2/3-Doors</td>\n",
       "      <td>13750</td>\n",
       "      <td>23</td>\n",
       "      <td>10</td>\n",
       "      <td>2002</td>\n",
       "      <td>72937</td>\n",
       "      <td>Diesel</td>\n",
       "      <td>NaN</td>\n",
       "      <td>1</td>\n",
       "      <td>...</td>\n",
       "      <td>1</td>\n",
       "      <td>0</td>\n",
       "      <td>1</td>\n",
       "      <td>0</td>\n",
       "      <td>0</td>\n",
       "      <td>0</td>\n",
       "      <td>1</td>\n",
       "      <td>0</td>\n",
       "      <td>0</td>\n",
       "      <td>0</td>\n",
       "    </tr>\n",
       "    <tr>\n",
       "      <td>2</td>\n",
       "      <td>3</td>\n",
       "      <td>?TOYOTA Corolla 2.0 D4D HATCHB TERRA 2/3-Doors</td>\n",
       "      <td>13950</td>\n",
       "      <td>24</td>\n",
       "      <td>9</td>\n",
       "      <td>2002</td>\n",
       "      <td>41711</td>\n",
       "      <td>Diesel</td>\n",
       "      <td>90.0</td>\n",
       "      <td>1</td>\n",
       "      <td>...</td>\n",
       "      <td>0</td>\n",
       "      <td>0</td>\n",
       "      <td>1</td>\n",
       "      <td>0</td>\n",
       "      <td>0</td>\n",
       "      <td>0</td>\n",
       "      <td>1</td>\n",
       "      <td>0</td>\n",
       "      <td>0</td>\n",
       "      <td>0</td>\n",
       "    </tr>\n",
       "  </tbody>\n",
       "</table>\n",
       "<p>3 rows × 37 columns</p>\n",
       "</div>"
      ],
      "text/plain": [
       "   Id                                           Model  Price  Age_08_04  \\\n",
       "0   1   TOYOTA Corolla 2.0 D4D HATCHB TERRA 2/3-Doors  13500         23   \n",
       "1   2   TOYOTA Corolla 2.0 D4D HATCHB TERRA 2/3-Doors  13750         23   \n",
       "2   3  ?TOYOTA Corolla 2.0 D4D HATCHB TERRA 2/3-Doors  13950         24   \n",
       "\n",
       "   Mfg_Month  Mfg_Year     KM Fuel_Type    HP  Met_Color  ...  Central_Lock  \\\n",
       "0         10      2002  46986    Diesel   NaN          1  ...             1   \n",
       "1         10      2002  72937    Diesel   NaN          1  ...             1   \n",
       "2          9      2002  41711    Diesel  90.0          1  ...             0   \n",
       "\n",
       "   Powered_Windows  Power_Steering  Radio  Mistlamps  Sport_Model  \\\n",
       "0                1               1      0          0            0   \n",
       "1                0               1      0          0            0   \n",
       "2                0               1      0          0            0   \n",
       "\n",
       "   Backseat_Divider  Metallic_Rim  Radio_cassette  Tow_Bar  \n",
       "0                 1             0               0        0  \n",
       "1                 1             0               0        0  \n",
       "2                 1             0               0        0  \n",
       "\n",
       "[3 rows x 37 columns]"
      ]
     },
     "execution_count": 319,
     "metadata": {},
     "output_type": "execute_result"
    }
   ],
   "source": [
    "data.head(3)"
   ]
  },
  {
   "cell_type": "markdown",
   "metadata": {},
   "source": [
    "# 2. EDA\n",
    "0) Interpret variables one by one and establish hypotheses about the relationship with dependent variables\n",
    "\n",
    "1) Search the acquired data and check and classify the data type for each variable (Numerical or Text, Ordered or Unordered, Continuous or Discrete / Categorical ... etc)\n",
    "\n",
    "2) Pre-processing after checking outliers such as no NaN value and no empty data\n",
    "\n",
    "3) Exploring the relationship between variables (using Scatter Plot, Box Plot, Heat Map, etc.)"
   ]
  },
  {
   "cell_type": "code",
   "execution_count": 320,
   "metadata": {},
   "outputs": [],
   "source": [
    "data.drop(['Id','Model'], axis=1, inplace=True)"
   ]
  },
  {
   "cell_type": "code",
   "execution_count": 321,
   "metadata": {},
   "outputs": [
    {
     "data": {
      "text/html": [
       "<div>\n",
       "<style scoped>\n",
       "    .dataframe tbody tr th:only-of-type {\n",
       "        vertical-align: middle;\n",
       "    }\n",
       "\n",
       "    .dataframe tbody tr th {\n",
       "        vertical-align: top;\n",
       "    }\n",
       "\n",
       "    .dataframe thead th {\n",
       "        text-align: right;\n",
       "    }\n",
       "</style>\n",
       "<table border=\"1\" class=\"dataframe\">\n",
       "  <thead>\n",
       "    <tr style=\"text-align: right;\">\n",
       "      <th></th>\n",
       "      <th>Price</th>\n",
       "      <th>Age_08_04</th>\n",
       "      <th>Mfg_Month</th>\n",
       "      <th>Mfg_Year</th>\n",
       "      <th>KM</th>\n",
       "      <th>Fuel_Type</th>\n",
       "      <th>HP</th>\n",
       "      <th>Met_Color</th>\n",
       "      <th>Automatic</th>\n",
       "      <th>cc</th>\n",
       "      <th>...</th>\n",
       "      <th>Central_Lock</th>\n",
       "      <th>Powered_Windows</th>\n",
       "      <th>Power_Steering</th>\n",
       "      <th>Radio</th>\n",
       "      <th>Mistlamps</th>\n",
       "      <th>Sport_Model</th>\n",
       "      <th>Backseat_Divider</th>\n",
       "      <th>Metallic_Rim</th>\n",
       "      <th>Radio_cassette</th>\n",
       "      <th>Tow_Bar</th>\n",
       "    </tr>\n",
       "  </thead>\n",
       "  <tbody>\n",
       "    <tr>\n",
       "      <td>0</td>\n",
       "      <td>13500</td>\n",
       "      <td>23</td>\n",
       "      <td>10</td>\n",
       "      <td>2002</td>\n",
       "      <td>46986</td>\n",
       "      <td>Diesel</td>\n",
       "      <td>NaN</td>\n",
       "      <td>1</td>\n",
       "      <td>0</td>\n",
       "      <td>2000.0</td>\n",
       "      <td>...</td>\n",
       "      <td>1</td>\n",
       "      <td>1</td>\n",
       "      <td>1</td>\n",
       "      <td>0</td>\n",
       "      <td>0</td>\n",
       "      <td>0</td>\n",
       "      <td>1</td>\n",
       "      <td>0</td>\n",
       "      <td>0</td>\n",
       "      <td>0</td>\n",
       "    </tr>\n",
       "    <tr>\n",
       "      <td>1</td>\n",
       "      <td>13750</td>\n",
       "      <td>23</td>\n",
       "      <td>10</td>\n",
       "      <td>2002</td>\n",
       "      <td>72937</td>\n",
       "      <td>Diesel</td>\n",
       "      <td>NaN</td>\n",
       "      <td>1</td>\n",
       "      <td>0</td>\n",
       "      <td>2000.0</td>\n",
       "      <td>...</td>\n",
       "      <td>1</td>\n",
       "      <td>0</td>\n",
       "      <td>1</td>\n",
       "      <td>0</td>\n",
       "      <td>0</td>\n",
       "      <td>0</td>\n",
       "      <td>1</td>\n",
       "      <td>0</td>\n",
       "      <td>0</td>\n",
       "      <td>0</td>\n",
       "    </tr>\n",
       "    <tr>\n",
       "      <td>2</td>\n",
       "      <td>13950</td>\n",
       "      <td>24</td>\n",
       "      <td>9</td>\n",
       "      <td>2002</td>\n",
       "      <td>41711</td>\n",
       "      <td>Diesel</td>\n",
       "      <td>90.0</td>\n",
       "      <td>1</td>\n",
       "      <td>0</td>\n",
       "      <td>2000.0</td>\n",
       "      <td>...</td>\n",
       "      <td>0</td>\n",
       "      <td>0</td>\n",
       "      <td>1</td>\n",
       "      <td>0</td>\n",
       "      <td>0</td>\n",
       "      <td>0</td>\n",
       "      <td>1</td>\n",
       "      <td>0</td>\n",
       "      <td>0</td>\n",
       "      <td>0</td>\n",
       "    </tr>\n",
       "    <tr>\n",
       "      <td>3</td>\n",
       "      <td>14950</td>\n",
       "      <td>26</td>\n",
       "      <td>7</td>\n",
       "      <td>2002</td>\n",
       "      <td>48000</td>\n",
       "      <td>Diesel</td>\n",
       "      <td>90.0</td>\n",
       "      <td>0</td>\n",
       "      <td>0</td>\n",
       "      <td>2000.0</td>\n",
       "      <td>...</td>\n",
       "      <td>0</td>\n",
       "      <td>0</td>\n",
       "      <td>1</td>\n",
       "      <td>0</td>\n",
       "      <td>0</td>\n",
       "      <td>0</td>\n",
       "      <td>1</td>\n",
       "      <td>0</td>\n",
       "      <td>0</td>\n",
       "      <td>0</td>\n",
       "    </tr>\n",
       "    <tr>\n",
       "      <td>4</td>\n",
       "      <td>13750</td>\n",
       "      <td>30</td>\n",
       "      <td>3</td>\n",
       "      <td>2002</td>\n",
       "      <td>38500</td>\n",
       "      <td>Diesel</td>\n",
       "      <td>90.0</td>\n",
       "      <td>0</td>\n",
       "      <td>0</td>\n",
       "      <td>2000.0</td>\n",
       "      <td>...</td>\n",
       "      <td>1</td>\n",
       "      <td>1</td>\n",
       "      <td>1</td>\n",
       "      <td>0</td>\n",
       "      <td>1</td>\n",
       "      <td>0</td>\n",
       "      <td>1</td>\n",
       "      <td>0</td>\n",
       "      <td>0</td>\n",
       "      <td>0</td>\n",
       "    </tr>\n",
       "  </tbody>\n",
       "</table>\n",
       "<p>5 rows × 35 columns</p>\n",
       "</div>"
      ],
      "text/plain": [
       "   Price  Age_08_04  Mfg_Month  Mfg_Year     KM Fuel_Type    HP  Met_Color  \\\n",
       "0  13500         23         10      2002  46986    Diesel   NaN          1   \n",
       "1  13750         23         10      2002  72937    Diesel   NaN          1   \n",
       "2  13950         24          9      2002  41711    Diesel  90.0          1   \n",
       "3  14950         26          7      2002  48000    Diesel  90.0          0   \n",
       "4  13750         30          3      2002  38500    Diesel  90.0          0   \n",
       "\n",
       "   Automatic      cc  ...  Central_Lock  Powered_Windows  Power_Steering  \\\n",
       "0          0  2000.0  ...             1                1               1   \n",
       "1          0  2000.0  ...             1                0               1   \n",
       "2          0  2000.0  ...             0                0               1   \n",
       "3          0  2000.0  ...             0                0               1   \n",
       "4          0  2000.0  ...             1                1               1   \n",
       "\n",
       "   Radio  Mistlamps  Sport_Model  Backseat_Divider  Metallic_Rim  \\\n",
       "0      0          0            0                 1             0   \n",
       "1      0          0            0                 1             0   \n",
       "2      0          0            0                 1             0   \n",
       "3      0          0            0                 1             0   \n",
       "4      0          1            0                 1             0   \n",
       "\n",
       "   Radio_cassette  Tow_Bar  \n",
       "0               0        0  \n",
       "1               0        0  \n",
       "2               0        0  \n",
       "3               0        0  \n",
       "4               0        0  \n",
       "\n",
       "[5 rows x 35 columns]"
      ]
     },
     "execution_count": 321,
     "metadata": {},
     "output_type": "execute_result"
    }
   ],
   "source": [
    "data.head()"
   ]
  },
  {
   "cell_type": "code",
   "execution_count": 322,
   "metadata": {},
   "outputs": [
    {
     "name": "stdout",
     "output_type": "stream",
     "text": [
      "<class 'pandas.core.frame.DataFrame'>\n",
      "RangeIndex: 1436 entries, 0 to 1435\n",
      "Data columns (total 35 columns):\n",
      "Price               1436 non-null int64\n",
      "Age_08_04           1436 non-null int64\n",
      "Mfg_Month           1436 non-null int64\n",
      "Mfg_Year            1436 non-null int64\n",
      "KM                  1436 non-null int64\n",
      "Fuel_Type           1436 non-null object\n",
      "HP                  1366 non-null float64\n",
      "Met_Color           1436 non-null int64\n",
      "Automatic           1436 non-null int64\n",
      "cc                  1385 non-null float64\n",
      "Doors               1424 non-null float64\n",
      "Cylinders           1398 non-null float64\n",
      "Gears               1418 non-null float64\n",
      "Quarterly_Tax       1436 non-null int64\n",
      "Weight              1431 non-null float64\n",
      "Mfr_Guarantee       1436 non-null int64\n",
      "BOVAG_Guarantee     1436 non-null int64\n",
      "Guarantee_Period    1436 non-null int64\n",
      "ABS                 1436 non-null int64\n",
      "Airbag_1            1436 non-null int64\n",
      "Airbag_2            1436 non-null int64\n",
      "Airco               1436 non-null int64\n",
      "Automatic_airco     1436 non-null int64\n",
      "Boardcomputer       1436 non-null int64\n",
      "CD_Player           1436 non-null int64\n",
      "Central_Lock        1436 non-null int64\n",
      "Powered_Windows     1436 non-null int64\n",
      "Power_Steering      1436 non-null int64\n",
      "Radio               1436 non-null int64\n",
      "Mistlamps           1436 non-null int64\n",
      "Sport_Model         1436 non-null int64\n",
      "Backseat_Divider    1436 non-null int64\n",
      "Metallic_Rim        1436 non-null int64\n",
      "Radio_cassette      1436 non-null int64\n",
      "Tow_Bar             1436 non-null int64\n",
      "dtypes: float64(6), int64(28), object(1)\n",
      "memory usage: 392.8+ KB\n"
     ]
    }
   ],
   "source": [
    "data.info()"
   ]
  },
  {
   "cell_type": "code",
   "execution_count": 323,
   "metadata": {},
   "outputs": [
    {
     "data": {
      "text/plain": [
       "Price                0\n",
       "Age_08_04            0\n",
       "Mfg_Month            0\n",
       "Mfg_Year             0\n",
       "KM                   0\n",
       "Fuel_Type            0\n",
       "HP                  70\n",
       "Met_Color            0\n",
       "Automatic            0\n",
       "cc                  51\n",
       "Doors               12\n",
       "Cylinders           38\n",
       "Gears               18\n",
       "Quarterly_Tax        0\n",
       "Weight               5\n",
       "Mfr_Guarantee        0\n",
       "BOVAG_Guarantee      0\n",
       "Guarantee_Period     0\n",
       "ABS                  0\n",
       "Airbag_1             0\n",
       "Airbag_2             0\n",
       "Airco                0\n",
       "Automatic_airco      0\n",
       "Boardcomputer        0\n",
       "CD_Player            0\n",
       "Central_Lock         0\n",
       "Powered_Windows      0\n",
       "Power_Steering       0\n",
       "Radio                0\n",
       "Mistlamps            0\n",
       "Sport_Model          0\n",
       "Backseat_Divider     0\n",
       "Metallic_Rim         0\n",
       "Radio_cassette       0\n",
       "Tow_Bar              0\n",
       "dtype: int64"
      ]
     },
     "execution_count": 323,
     "metadata": {},
     "output_type": "execute_result"
    }
   ],
   "source": [
    "# there are missing values in the dataset too\n",
    "data.isnull().sum()"
   ]
  },
  {
   "cell_type": "markdown",
   "metadata": {},
   "source": [
    "### 1. Fuel_Type"
   ]
  },
  {
   "cell_type": "code",
   "execution_count": 324,
   "metadata": {},
   "outputs": [
    {
     "data": {
      "text/plain": [
       "Petrol    1264\n",
       "Diesel     155\n",
       "CNG         17\n",
       "Name: Fuel_Type, dtype: int64"
      ]
     },
     "execution_count": 324,
     "metadata": {},
     "output_type": "execute_result"
    }
   ],
   "source": [
    "# we can create dummy variable for Fuel_Type\n",
    "data['Fuel_Type'].value_counts()"
   ]
  },
  {
   "cell_type": "code",
   "execution_count": 325,
   "metadata": {},
   "outputs": [
    {
     "data": {
      "text/plain": [
       "<matplotlib.axes._subplots.AxesSubplot at 0x1a2d87d890>"
      ]
     },
     "execution_count": 325,
     "metadata": {},
     "output_type": "execute_result"
    },
    {
     "data": {
      "image/png": "[encoded data removed]",
      "text/plain": [
       "<Figure size 432x288 with 1 Axes>"
      ]
     },
     "metadata": {
      "needs_background": "light"
     },
     "output_type": "display_data"
    }
   ],
   "source": [
    "sns.countplot(data['Fuel_Type'])"
   ]
  },
  {
   "cell_type": "markdown",
   "metadata": {},
   "source": [
    "### 2. Price"
   ]
  },
  {
   "cell_type": "code",
   "execution_count": 326,
   "metadata": {},
   "outputs": [
    {
     "data": {
      "text/plain": [
       "<matplotlib.axes._subplots.AxesSubplot at 0x1a2d8a8990>"
      ]
     },
     "execution_count": 326,
     "metadata": {},
     "output_type": "execute_result"
    },
    {
     "data": {
      "image/png": "[encoded data removed]",
      "text/plain": [
       "<Figure size 432x288 with 1 Axes>"
      ]
     },
     "metadata": {
      "needs_background": "light"
     },
     "output_type": "display_data"
    }
   ],
   "source": [
    "sns.boxplot(data['Price'],orient='v')"
   ]
  },
  {
   "cell_type": "code",
   "execution_count": 327,
   "metadata": {},
   "outputs": [
    {
     "data": {
      "image/png": "[encoded data removed]",
      "text/plain": [
       "<Figure size 504x504 with 1 Axes>"
      ]
     },
     "metadata": {
      "needs_background": "light"
     },
     "output_type": "display_data"
    }
   ],
   "source": [
    "# data is left skewed\n",
    "data['Price'].hist(bins=30, figsize=(7,7))\n",
    "plt.show()"
   ]
  },
  {
   "cell_type": "code",
   "execution_count": 328,
   "metadata": {},
   "outputs": [
    {
     "data": {
      "text/plain": [
       "10730.824512534818"
      ]
     },
     "execution_count": 328,
     "metadata": {},
     "output_type": "execute_result"
    }
   ],
   "source": [
    "data['Price'].mean()"
   ]
  },
  {
   "cell_type": "code",
   "execution_count": 329,
   "metadata": {},
   "outputs": [
    {
     "data": {
      "text/plain": [
       "105"
      ]
     },
     "execution_count": 329,
     "metadata": {},
     "output_type": "execute_result"
    }
   ],
   "source": [
    "data[data['Price']>17500]['Price'].count()"
   ]
  },
  {
   "cell_type": "markdown",
   "metadata": {},
   "source": [
    "### 3. Age_08_04"
   ]
  },
  {
   "cell_type": "code",
   "execution_count": 330,
   "metadata": {},
   "outputs": [
    {
     "data": {
      "text/plain": [
       "<matplotlib.axes._subplots.AxesSubplot at 0x1a2db47650>"
      ]
     },
     "execution_count": 330,
     "metadata": {},
     "output_type": "execute_result"
    },
    {
     "data": {
      "image/png": "[encoded data removed]",
      "text/plain": [
       "<Figure size 432x288 with 1 Axes>"
      ]
     },
     "metadata": {
      "needs_background": "light"
     },
     "output_type": "display_data"
    }
   ],
   "source": [
    "# as the age increases price of the car decreases \n",
    "sns.scatterplot(data['Age_08_04'], data['Price'])"
   ]
  },
  {
   "cell_type": "code",
   "execution_count": 331,
   "metadata": {},
   "outputs": [
    {
     "data": {
      "text/plain": [
       "<matplotlib.axes._subplots.AxesSubplot at 0x1a2dd55c10>"
      ]
     },
     "execution_count": 331,
     "metadata": {},
     "output_type": "execute_result"
    },
    {
     "data": {
      "image/png": "[encoded data removed]",
      "text/plain": [
       "<Figure size 432x288 with 1 Axes>"
      ]
     },
     "metadata": {
      "needs_background": "light"
     },
     "output_type": "display_data"
    }
   ],
   "source": [
    "sns.distplot(data['Age_08_04'])"
   ]
  },
  {
   "cell_type": "markdown",
   "metadata": {},
   "source": [
    "### 4.Mfg_Month"
   ]
  },
  {
   "cell_type": "code",
   "execution_count": 332,
   "metadata": {},
   "outputs": [
    {
     "data": {
      "text/plain": [
       "<matplotlib.axes._subplots.AxesSubplot at 0x1a2df095d0>"
      ]
     },
     "execution_count": 332,
     "metadata": {},
     "output_type": "execute_result"
    },
    {
     "data": {
      "image/png": "[encoded data removed]",
      "text/plain": [
       "<Figure size 432x288 with 1 Axes>"
      ]
     },
     "metadata": {
      "needs_background": "light"
     },
     "output_type": "display_data"
    }
   ],
   "source": [
    "#there is no such relationship between Mfg_Month and Price\n",
    "sns.scatterplot(data['Mfg_Month'], data['Price'])"
   ]
  },
  {
   "cell_type": "code",
   "execution_count": 333,
   "metadata": {},
   "outputs": [
    {
     "data": {
      "text/plain": [
       "Mfg_Year\n",
       "1998    392\n",
       "1999    441\n",
       "2000    225\n",
       "2001    192\n",
       "2002     87\n",
       "2003     75\n",
       "2004     24\n",
       "Name: Age_08_04, dtype: int64"
      ]
     },
     "execution_count": 333,
     "metadata": {},
     "output_type": "execute_result"
    }
   ],
   "source": [
    "data.groupby(\"Mfg_Year\").count()['Age_08_04']"
   ]
  },
  {
   "cell_type": "code",
   "execution_count": 334,
   "metadata": {},
   "outputs": [
    {
     "data": {
      "text/plain": [
       "Mfg_Year  Fuel_Type\n",
       "1998      CNG            3\n",
       "          Diesel        36\n",
       "          Petrol       353\n",
       "1999      CNG            6\n",
       "          Diesel        37\n",
       "          Petrol       398\n",
       "2000      CNG            3\n",
       "          Diesel        28\n",
       "          Petrol       194\n",
       "2001      CNG            5\n",
       "          Diesel        21\n",
       "          Petrol       166\n",
       "2002      Diesel        16\n",
       "          Petrol        71\n",
       "2003      Diesel         9\n",
       "          Petrol        66\n",
       "2004      Diesel         8\n",
       "          Petrol        16\n",
       "Name: Age_08_04, dtype: int64"
      ]
     },
     "execution_count": 334,
     "metadata": {},
     "output_type": "execute_result"
    }
   ],
   "source": [
    "#There are 17 CNG vehicles, 106 Diesel, and 904 Petroleum vehicles, overwhelmingly.\n",
    "data.groupby(['Mfg_Year', 'Fuel_Type']).count()['Age_08_04']"
   ]
  },
  {
   "cell_type": "markdown",
   "metadata": {},
   "source": [
    "### 5. Mfg_Year"
   ]
  },
  {
   "cell_type": "code",
   "execution_count": 335,
   "metadata": {},
   "outputs": [
    {
     "data": {
      "text/plain": [
       "<matplotlib.axes._subplots.AxesSubplot at 0x1a2de07ad0>"
      ]
     },
     "execution_count": 335,
     "metadata": {},
     "output_type": "execute_result"
    },
    {
     "data": {
      "image/png": "[encoded data removed]",
      "text/plain": [
       "<Figure size 432x288 with 1 Axes>"
      ]
     },
     "metadata": {
      "needs_background": "light"
     },
     "output_type": "display_data"
    }
   ],
   "source": [
    "# as the age increases price of the car decreases \n",
    "sns.scatterplot(data['Mfg_Year'], data['Price'])"
   ]
  },
  {
   "cell_type": "code",
   "execution_count": 336,
   "metadata": {},
   "outputs": [
    {
     "data": {
      "text/html": [
       "<div>\n",
       "<style scoped>\n",
       "    .dataframe tbody tr th:only-of-type {\n",
       "        vertical-align: middle;\n",
       "    }\n",
       "\n",
       "    .dataframe tbody tr th {\n",
       "        vertical-align: top;\n",
       "    }\n",
       "\n",
       "    .dataframe thead th {\n",
       "        text-align: right;\n",
       "    }\n",
       "</style>\n",
       "<table border=\"1\" class=\"dataframe\">\n",
       "  <thead>\n",
       "    <tr style=\"text-align: right;\">\n",
       "      <th></th>\n",
       "      <th></th>\n",
       "      <th></th>\n",
       "      <th></th>\n",
       "      <th>Price</th>\n",
       "      <th>Age_08_04</th>\n",
       "      <th>Mfg_Month</th>\n",
       "      <th>KM</th>\n",
       "      <th>Met_Color</th>\n",
       "      <th>Automatic</th>\n",
       "      <th>Doors</th>\n",
       "      <th>Cylinders</th>\n",
       "      <th>Gears</th>\n",
       "      <th>Quarterly_Tax</th>\n",
       "      <th>...</th>\n",
       "      <th>Central_Lock</th>\n",
       "      <th>Powered_Windows</th>\n",
       "      <th>Power_Steering</th>\n",
       "      <th>Radio</th>\n",
       "      <th>Mistlamps</th>\n",
       "      <th>Sport_Model</th>\n",
       "      <th>Backseat_Divider</th>\n",
       "      <th>Metallic_Rim</th>\n",
       "      <th>Radio_cassette</th>\n",
       "      <th>Tow_Bar</th>\n",
       "    </tr>\n",
       "    <tr>\n",
       "      <th>Mfg_Year</th>\n",
       "      <th>Fuel_Type</th>\n",
       "      <th>cc</th>\n",
       "      <th>HP</th>\n",
       "      <th></th>\n",
       "      <th></th>\n",
       "      <th></th>\n",
       "      <th></th>\n",
       "      <th></th>\n",
       "      <th></th>\n",
       "      <th></th>\n",
       "      <th></th>\n",
       "      <th></th>\n",
       "      <th></th>\n",
       "      <th></th>\n",
       "      <th></th>\n",
       "      <th></th>\n",
       "      <th></th>\n",
       "      <th></th>\n",
       "      <th></th>\n",
       "      <th></th>\n",
       "      <th></th>\n",
       "      <th></th>\n",
       "      <th></th>\n",
       "      <th></th>\n",
       "    </tr>\n",
       "  </thead>\n",
       "  <tbody>\n",
       "    <tr>\n",
       "      <td rowspan=\"5\" valign=\"top\">1998</td>\n",
       "      <td>CNG</td>\n",
       "      <td>1600.0</td>\n",
       "      <td>110.0</td>\n",
       "      <td>1</td>\n",
       "      <td>1</td>\n",
       "      <td>1</td>\n",
       "      <td>1</td>\n",
       "      <td>1</td>\n",
       "      <td>1</td>\n",
       "      <td>1</td>\n",
       "      <td>1</td>\n",
       "      <td>1</td>\n",
       "      <td>1</td>\n",
       "      <td>...</td>\n",
       "      <td>1</td>\n",
       "      <td>1</td>\n",
       "      <td>1</td>\n",
       "      <td>1</td>\n",
       "      <td>1</td>\n",
       "      <td>1</td>\n",
       "      <td>1</td>\n",
       "      <td>1</td>\n",
       "      <td>1</td>\n",
       "      <td>1</td>\n",
       "    </tr>\n",
       "    <tr>\n",
       "      <td rowspan=\"3\" valign=\"top\">Diesel</td>\n",
       "      <td rowspan=\"3\" valign=\"top\">2000.0</td>\n",
       "      <td>72.0</td>\n",
       "      <td>23</td>\n",
       "      <td>23</td>\n",
       "      <td>23</td>\n",
       "      <td>23</td>\n",
       "      <td>23</td>\n",
       "      <td>23</td>\n",
       "      <td>23</td>\n",
       "      <td>22</td>\n",
       "      <td>21</td>\n",
       "      <td>23</td>\n",
       "      <td>...</td>\n",
       "      <td>23</td>\n",
       "      <td>23</td>\n",
       "      <td>23</td>\n",
       "      <td>23</td>\n",
       "      <td>23</td>\n",
       "      <td>23</td>\n",
       "      <td>23</td>\n",
       "      <td>23</td>\n",
       "      <td>23</td>\n",
       "      <td>23</td>\n",
       "    </tr>\n",
       "    <tr>\n",
       "      <td>73.0</td>\n",
       "      <td>1</td>\n",
       "      <td>1</td>\n",
       "      <td>1</td>\n",
       "      <td>1</td>\n",
       "      <td>1</td>\n",
       "      <td>1</td>\n",
       "      <td>1</td>\n",
       "      <td>1</td>\n",
       "      <td>1</td>\n",
       "      <td>1</td>\n",
       "      <td>...</td>\n",
       "      <td>1</td>\n",
       "      <td>1</td>\n",
       "      <td>1</td>\n",
       "      <td>1</td>\n",
       "      <td>1</td>\n",
       "      <td>1</td>\n",
       "      <td>1</td>\n",
       "      <td>1</td>\n",
       "      <td>1</td>\n",
       "      <td>1</td>\n",
       "    </tr>\n",
       "    <tr>\n",
       "      <td>90.0</td>\n",
       "      <td>2</td>\n",
       "      <td>2</td>\n",
       "      <td>2</td>\n",
       "      <td>2</td>\n",
       "      <td>2</td>\n",
       "      <td>2</td>\n",
       "      <td>2</td>\n",
       "      <td>2</td>\n",
       "      <td>2</td>\n",
       "      <td>2</td>\n",
       "      <td>...</td>\n",
       "      <td>2</td>\n",
       "      <td>2</td>\n",
       "      <td>2</td>\n",
       "      <td>2</td>\n",
       "      <td>2</td>\n",
       "      <td>2</td>\n",
       "      <td>2</td>\n",
       "      <td>2</td>\n",
       "      <td>2</td>\n",
       "      <td>2</td>\n",
       "    </tr>\n",
       "    <tr>\n",
       "      <td>Petrol</td>\n",
       "      <td>1300.0</td>\n",
       "      <td>86.0</td>\n",
       "      <td>103</td>\n",
       "      <td>103</td>\n",
       "      <td>103</td>\n",
       "      <td>103</td>\n",
       "      <td>103</td>\n",
       "      <td>103</td>\n",
       "      <td>103</td>\n",
       "      <td>100</td>\n",
       "      <td>103</td>\n",
       "      <td>103</td>\n",
       "      <td>...</td>\n",
       "      <td>103</td>\n",
       "      <td>103</td>\n",
       "      <td>103</td>\n",
       "      <td>103</td>\n",
       "      <td>103</td>\n",
       "      <td>103</td>\n",
       "      <td>103</td>\n",
       "      <td>103</td>\n",
       "      <td>103</td>\n",
       "      <td>103</td>\n",
       "    </tr>\n",
       "    <tr>\n",
       "      <td>...</td>\n",
       "      <td>...</td>\n",
       "      <td>...</td>\n",
       "      <td>...</td>\n",
       "      <td>...</td>\n",
       "      <td>...</td>\n",
       "      <td>...</td>\n",
       "      <td>...</td>\n",
       "      <td>...</td>\n",
       "      <td>...</td>\n",
       "      <td>...</td>\n",
       "      <td>...</td>\n",
       "      <td>...</td>\n",
       "      <td>...</td>\n",
       "      <td>...</td>\n",
       "      <td>...</td>\n",
       "      <td>...</td>\n",
       "      <td>...</td>\n",
       "      <td>...</td>\n",
       "      <td>...</td>\n",
       "      <td>...</td>\n",
       "      <td>...</td>\n",
       "      <td>...</td>\n",
       "      <td>...</td>\n",
       "      <td>...</td>\n",
       "    </tr>\n",
       "    <tr>\n",
       "      <td rowspan=\"5\" valign=\"top\">2004</td>\n",
       "      <td rowspan=\"2\" valign=\"top\">Diesel</td>\n",
       "      <td rowspan=\"2\" valign=\"top\">2000.0</td>\n",
       "      <td>90.0</td>\n",
       "      <td>1</td>\n",
       "      <td>1</td>\n",
       "      <td>1</td>\n",
       "      <td>1</td>\n",
       "      <td>1</td>\n",
       "      <td>1</td>\n",
       "      <td>1</td>\n",
       "      <td>1</td>\n",
       "      <td>1</td>\n",
       "      <td>1</td>\n",
       "      <td>...</td>\n",
       "      <td>1</td>\n",
       "      <td>1</td>\n",
       "      <td>1</td>\n",
       "      <td>1</td>\n",
       "      <td>1</td>\n",
       "      <td>1</td>\n",
       "      <td>1</td>\n",
       "      <td>1</td>\n",
       "      <td>1</td>\n",
       "      <td>1</td>\n",
       "    </tr>\n",
       "    <tr>\n",
       "      <td>116.0</td>\n",
       "      <td>4</td>\n",
       "      <td>4</td>\n",
       "      <td>4</td>\n",
       "      <td>4</td>\n",
       "      <td>4</td>\n",
       "      <td>4</td>\n",
       "      <td>4</td>\n",
       "      <td>4</td>\n",
       "      <td>4</td>\n",
       "      <td>4</td>\n",
       "      <td>...</td>\n",
       "      <td>4</td>\n",
       "      <td>4</td>\n",
       "      <td>4</td>\n",
       "      <td>4</td>\n",
       "      <td>4</td>\n",
       "      <td>4</td>\n",
       "      <td>4</td>\n",
       "      <td>4</td>\n",
       "      <td>4</td>\n",
       "      <td>4</td>\n",
       "    </tr>\n",
       "    <tr>\n",
       "      <td rowspan=\"3\" valign=\"top\">Petrol</td>\n",
       "      <td rowspan=\"2\" valign=\"top\">1400.0</td>\n",
       "      <td>97.0</td>\n",
       "      <td>4</td>\n",
       "      <td>4</td>\n",
       "      <td>4</td>\n",
       "      <td>4</td>\n",
       "      <td>4</td>\n",
       "      <td>4</td>\n",
       "      <td>4</td>\n",
       "      <td>4</td>\n",
       "      <td>4</td>\n",
       "      <td>4</td>\n",
       "      <td>...</td>\n",
       "      <td>4</td>\n",
       "      <td>4</td>\n",
       "      <td>4</td>\n",
       "      <td>4</td>\n",
       "      <td>4</td>\n",
       "      <td>4</td>\n",
       "      <td>4</td>\n",
       "      <td>4</td>\n",
       "      <td>4</td>\n",
       "      <td>4</td>\n",
       "    </tr>\n",
       "    <tr>\n",
       "      <td>98.0</td>\n",
       "      <td>1</td>\n",
       "      <td>1</td>\n",
       "      <td>1</td>\n",
       "      <td>1</td>\n",
       "      <td>1</td>\n",
       "      <td>1</td>\n",
       "      <td>1</td>\n",
       "      <td>1</td>\n",
       "      <td>1</td>\n",
       "      <td>1</td>\n",
       "      <td>...</td>\n",
       "      <td>1</td>\n",
       "      <td>1</td>\n",
       "      <td>1</td>\n",
       "      <td>1</td>\n",
       "      <td>1</td>\n",
       "      <td>1</td>\n",
       "      <td>1</td>\n",
       "      <td>1</td>\n",
       "      <td>1</td>\n",
       "      <td>1</td>\n",
       "    </tr>\n",
       "    <tr>\n",
       "      <td>1600.0</td>\n",
       "      <td>110.0</td>\n",
       "      <td>11</td>\n",
       "      <td>11</td>\n",
       "      <td>11</td>\n",
       "      <td>11</td>\n",
       "      <td>11</td>\n",
       "      <td>11</td>\n",
       "      <td>11</td>\n",
       "      <td>11</td>\n",
       "      <td>11</td>\n",
       "      <td>11</td>\n",
       "      <td>...</td>\n",
       "      <td>11</td>\n",
       "      <td>11</td>\n",
       "      <td>11</td>\n",
       "      <td>11</td>\n",
       "      <td>11</td>\n",
       "      <td>11</td>\n",
       "      <td>11</td>\n",
       "      <td>11</td>\n",
       "      <td>11</td>\n",
       "      <td>11</td>\n",
       "    </tr>\n",
       "  </tbody>\n",
       "</table>\n",
       "<p>61 rows × 31 columns</p>\n",
       "</div>"
      ],
      "text/plain": [
       "                                 Price  Age_08_04  Mfg_Month   KM  Met_Color  \\\n",
       "Mfg_Year Fuel_Type cc     HP                                                   \n",
       "1998     CNG       1600.0 110.0      1          1          1    1          1   \n",
       "         Diesel    2000.0 72.0      23         23         23   23         23   \n",
       "                          73.0       1          1          1    1          1   \n",
       "                          90.0       2          2          2    2          2   \n",
       "         Petrol    1300.0 86.0     103        103        103  103        103   \n",
       "...                                ...        ...        ...  ...        ...   \n",
       "2004     Diesel    2000.0 90.0       1          1          1    1          1   \n",
       "                          116.0      4          4          4    4          4   \n",
       "         Petrol    1400.0 97.0       4          4          4    4          4   \n",
       "                          98.0       1          1          1    1          1   \n",
       "                   1600.0 110.0     11         11         11   11         11   \n",
       "\n",
       "                                 Automatic  Doors  Cylinders  Gears  \\\n",
       "Mfg_Year Fuel_Type cc     HP                                          \n",
       "1998     CNG       1600.0 110.0          1      1          1      1   \n",
       "         Diesel    2000.0 72.0          23     23         22     21   \n",
       "                          73.0           1      1          1      1   \n",
       "                          90.0           2      2          2      2   \n",
       "         Petrol    1300.0 86.0         103    103        100    103   \n",
       "...                                    ...    ...        ...    ...   \n",
       "2004     Diesel    2000.0 90.0           1      1          1      1   \n",
       "                          116.0          4      4          4      4   \n",
       "         Petrol    1400.0 97.0           4      4          4      4   \n",
       "                          98.0           1      1          1      1   \n",
       "                   1600.0 110.0         11     11         11     11   \n",
       "\n",
       "                                 Quarterly_Tax  ...  Central_Lock  \\\n",
       "Mfg_Year Fuel_Type cc     HP                    ...                 \n",
       "1998     CNG       1600.0 110.0              1  ...             1   \n",
       "         Diesel    2000.0 72.0              23  ...            23   \n",
       "                          73.0               1  ...             1   \n",
       "                          90.0               2  ...             2   \n",
       "         Petrol    1300.0 86.0             103  ...           103   \n",
       "...                                        ...  ...           ...   \n",
       "2004     Diesel    2000.0 90.0               1  ...             1   \n",
       "                          116.0              4  ...             4   \n",
       "         Petrol    1400.0 97.0               4  ...             4   \n",
       "                          98.0               1  ...             1   \n",
       "                   1600.0 110.0             11  ...            11   \n",
       "\n",
       "                                 Powered_Windows  Power_Steering  Radio  \\\n",
       "Mfg_Year Fuel_Type cc     HP                                              \n",
       "1998     CNG       1600.0 110.0                1               1      1   \n",
       "         Diesel    2000.0 72.0                23              23     23   \n",
       "                          73.0                 1               1      1   \n",
       "                          90.0                 2               2      2   \n",
       "         Petrol    1300.0 86.0               103             103    103   \n",
       "...                                          ...             ...    ...   \n",
       "2004     Diesel    2000.0 90.0                 1               1      1   \n",
       "                          116.0                4               4      4   \n",
       "         Petrol    1400.0 97.0                 4               4      4   \n",
       "                          98.0                 1               1      1   \n",
       "                   1600.0 110.0               11              11     11   \n",
       "\n",
       "                                 Mistlamps  Sport_Model  Backseat_Divider  \\\n",
       "Mfg_Year Fuel_Type cc     HP                                                \n",
       "1998     CNG       1600.0 110.0          1            1                 1   \n",
       "         Diesel    2000.0 72.0          23           23                23   \n",
       "                          73.0           1            1                 1   \n",
       "                          90.0           2            2                 2   \n",
       "         Petrol    1300.0 86.0         103          103               103   \n",
       "...                                    ...          ...               ...   \n",
       "2004     Diesel    2000.0 90.0           1            1                 1   \n",
       "                          116.0          4            4                 4   \n",
       "         Petrol    1400.0 97.0           4            4                 4   \n",
       "                          98.0           1            1                 1   \n",
       "                   1600.0 110.0         11           11                11   \n",
       "\n",
       "                                 Metallic_Rim  Radio_cassette  Tow_Bar  \n",
       "Mfg_Year Fuel_Type cc     HP                                            \n",
       "1998     CNG       1600.0 110.0             1               1        1  \n",
       "         Diesel    2000.0 72.0             23              23       23  \n",
       "                          73.0              1               1        1  \n",
       "                          90.0              2               2        2  \n",
       "         Petrol    1300.0 86.0            103             103      103  \n",
       "...                                       ...             ...      ...  \n",
       "2004     Diesel    2000.0 90.0              1               1        1  \n",
       "                          116.0             4               4        4  \n",
       "         Petrol    1400.0 97.0              4               4        4  \n",
       "                          98.0              1               1        1  \n",
       "                   1600.0 110.0            11              11       11  \n",
       "\n",
       "[61 rows x 31 columns]"
      ]
     },
     "execution_count": 336,
     "metadata": {},
     "output_type": "execute_result"
    }
   ],
   "source": [
    "data.groupby(['Mfg_Year', 'Fuel_Type', 'cc','HP']).count()"
   ]
  },
  {
   "cell_type": "markdown",
   "metadata": {},
   "source": [
    "# 2. Preprocessing"
   ]
  },
  {
   "cell_type": "markdown",
   "metadata": {},
   "source": [
    "### 6. cc"
   ]
  },
  {
   "cell_type": "code",
   "execution_count": 337,
   "metadata": {},
   "outputs": [
    {
     "data": {
      "text/plain": [
       "1600.0     826\n",
       "1300.0     242\n",
       "1400.0     164\n",
       "2000.0     108\n",
       "1900.0      17\n",
       "1800.0      13\n",
       "1587.0       4\n",
       "1598.0       3\n",
       "1995.0       2\n",
       "1332.0       2\n",
       "1398.0       2\n",
       "16000.0      1\n",
       "1975.0       1\n",
       "Name: cc, dtype: int64"
      ]
     },
     "execution_count": 337,
     "metadata": {},
     "output_type": "execute_result"
    }
   ],
   "source": [
    "data['cc'].value_counts()"
   ]
  },
  {
   "cell_type": "code",
   "execution_count": 338,
   "metadata": {},
   "outputs": [],
   "source": [
    "# Remove outliers from 'CC' data\n",
    "data[\"cc\"].replace([16000], 1600, inplace=True)\n",
    "\n",
    "#remove the Null Value from cc\n",
    "data[\"cc\"].fillna( method ='ffill', inplace = True)\n",
    "\n",
    "# CC data rounded to tens digit (** 00)\n",
    "new_cc =[]\n",
    "for item in list(data['cc']):\n",
    "    if item % 100 == 0:\n",
    "        new_cc.append(item)\n",
    "    \n",
    "    elif item % 100 > 50:\n",
    "        revised_item = item + 100 - (item % 100)\n",
    "        new_cc.append(revised_item)\n",
    "    \n",
    "    elif 0 < item % 100 < 50:\n",
    "        revised_item_2 = item - (item % 100)\n",
    "        new_cc.append(revised_item_2)\n",
    "\n",
    "df[\"cc\"] = pd.DataFrame(new_cc)\n",
    "\n"
   ]
  },
  {
   "cell_type": "markdown",
   "metadata": {},
   "source": [
    "### 7. HP"
   ]
  },
  {
   "cell_type": "code",
   "execution_count": 339,
   "metadata": {},
   "outputs": [
    {
     "data": {
      "text/plain": [
       "1426    110\n",
       "1427     90\n",
       "1428     90\n",
       "1429     90\n",
       "1430     90\n",
       "1431     90\n",
       "1432     90\n",
       "1433     90\n",
       "1434     90\n",
       "1435    110\n",
       "Name: HP, dtype: int64"
      ]
     },
     "execution_count": 339,
     "metadata": {},
     "output_type": "execute_result"
    }
   ],
   "source": [
    "#remove the Null Value from cc\n",
    "data[\"HP\"].fillna(data[\"HP\"].median(), inplace = True)\n",
    "\n",
    "new_hp_1 = []\n",
    "for item in list(data['HP']):\n",
    "    if 60 < item < 75:\n",
    "        item = 70\n",
    "        new_hp_1.append(item)\n",
    "    elif 80 < item < 91:\n",
    "        item = 90\n",
    "        new_hp_1.append(item)\n",
    "    elif 95 < item < 105:\n",
    "        item = 100\n",
    "        new_hp_1.append(item)\n",
    "    elif 105 < item < 120:\n",
    "        item = 110\n",
    "        new_hp_1.append(item)\n",
    "    elif item > 190:\n",
    "        item = 190\n",
    "        new_hp_1.append(item)\n",
    "        \n",
    "data[\"HP\"] = pd.DataFrame(new_hp_1)\n",
    "\n",
    "data[\"HP\"].tail(n=10)\n",
    "\n"
   ]
  },
  {
   "cell_type": "markdown",
   "metadata": {},
   "source": [
    "### 7.Doors"
   ]
  },
  {
   "cell_type": "code",
   "execution_count": 340,
   "metadata": {},
   "outputs": [
    {
     "data": {
      "text/plain": [
       "<matplotlib.axes._subplots.AxesSubplot at 0x1a2d5fb590>"
      ]
     },
     "execution_count": 340,
     "metadata": {},
     "output_type": "execute_result"
    },
    {
     "data": {
      "image/png": "[encoded data removed]",
      "text/plain": [
       "<Figure size 432x288 with 1 Axes>"
      ]
     },
     "metadata": {
      "needs_background": "light"
     },
     "output_type": "display_data"
    }
   ],
   "source": [
    "sns.scatterplot(data['Doors'], data['Price'])"
   ]
  },
  {
   "cell_type": "code",
   "execution_count": 341,
   "metadata": {},
   "outputs": [],
   "source": [
    "# Real(Ordered, Numerical) data\n",
    "real_var = ['Age_08_04', 'KM', \"Quarterly_Tax\", 'Weight', 'Guarantee_Period']\n",
    "\n",
    "# category data \n",
    "cat_var = [\"Mfg_Year\", \"HP\", \"CC\", \"Fuel_Type\", \"Doors\", 'Gears', \"Met_Color\", \"Automatic\", \"Mfr_Guarantee\",\n",
    "           \"BOVAG_Guarantee\", \"ABS\", \"Airbag_1\", \"Airbag_2\", \"Airco\",\n",
    "          \"Automatic_airco\", \"Boardcomputer\", \"CD_Player\", \"Central_Lock\",\n",
    "          \"Powered_Windows\", \"Power_Steering\", \"Radio\", \"Mistlamps\",\n",
    "          \"Sport_Model\", \"Backseat_Divider\", \"Metallic_Rim\", \"Radio_cassette\",\n",
    "          \"Parking_Assistant\",\"Tow_Bar\"]"
   ]
  },
  {
   "cell_type": "code",
   "execution_count": 342,
   "metadata": {},
   "outputs": [
    {
     "name": "stderr",
     "output_type": "stream",
     "text": [
      "/Users/gauravbansal1600/opt/anaconda3/lib/python3.7/site-packages/numpy/lib/histograms.py:829: RuntimeWarning: invalid value encountered in greater_equal\n",
      "  keep = (tmp_a >= first_edge)\n",
      "/Users/gauravbansal1600/opt/anaconda3/lib/python3.7/site-packages/numpy/lib/histograms.py:830: RuntimeWarning: invalid value encountered in less_equal\n",
      "  keep &= (tmp_a <= last_edge)\n"
     ]
    },
    {
     "data": {
      "text/plain": [
       "<seaborn.axisgrid.PairGrid at 0x1a2dfc49d0>"
      ]
     },
     "execution_count": 342,
     "metadata": {},
     "output_type": "execute_result"
    },
    {
     "data": {
      "image/png": "[encoded data removed]",
      "text/plain": [
       "<Figure size 1080x1080 with 42 Axes>"
      ]
     },
     "metadata": {
      "needs_background": "light"
     },
     "output_type": "display_data"
    }
   ],
   "source": [
    "#As the dependent variable Price is also continuous numerical data, the relationship with other continuous variables \n",
    "#is checked and analyzed through pairplot\n",
    "real_var_and_price = ['Price','Age_08_04', 'KM', \"Quarterly_Tax\", 'Weight', 'Guarantee_Period']\n",
    "sns.pairplot(data[real_var_and_price])"
   ]
  },
  {
   "cell_type": "code",
   "execution_count": 343,
   "metadata": {},
   "outputs": [
    {
     "data": {
      "text/plain": [
       "<matplotlib.axes._subplots.AxesSubplot at 0x1a2f600210>"
      ]
     },
     "execution_count": 343,
     "metadata": {},
     "output_type": "execute_result"
    },
    {
     "data": {
      "image/png": "[encoded data removed]",
      "text/plain": [
       "<Figure size 504x504 with 2 Axes>"
      ]
     },
     "metadata": {
      "needs_background": "light"
     },
     "output_type": "display_data"
    }
   ],
   "source": [
    "#Correlation coefficient of 0.5 or more, ** Age_08_04, KM, Weight were selected as relatively important variables\n",
    "corr_table = pd.concat([data[\"Price\"], data[real_var]], axis=1)\n",
    "corr_mat = corr_table.corr()\n",
    "\n",
    "# heatmap\n",
    "f, ax = plt.subplots(figsize=(7,7))\n",
    "sns.heatmap(corr_mat, annot=True)"
   ]
  },
  {
   "cell_type": "code",
   "execution_count": 344,
   "metadata": {},
   "outputs": [],
   "source": [
    "data.drop([\"Quarterly_Tax\", 'Guarantee_Period'], axis=1, inplace=True)"
   ]
  },
  {
   "cell_type": "code",
   "execution_count": 345,
   "metadata": {},
   "outputs": [
    {
     "data": {
      "text/plain": [
       "Price                0\n",
       "Age_08_04            0\n",
       "Mfg_Month            0\n",
       "Mfg_Year             0\n",
       "KM                   0\n",
       "Fuel_Type            0\n",
       "HP                   0\n",
       "Met_Color            0\n",
       "Automatic            0\n",
       "cc                   0\n",
       "Doors               12\n",
       "Cylinders           38\n",
       "Gears               18\n",
       "Weight               5\n",
       "Mfr_Guarantee        0\n",
       "BOVAG_Guarantee      0\n",
       "ABS                  0\n",
       "Airbag_1             0\n",
       "Airbag_2             0\n",
       "Airco                0\n",
       "Automatic_airco      0\n",
       "Boardcomputer        0\n",
       "CD_Player            0\n",
       "Central_Lock         0\n",
       "Powered_Windows      0\n",
       "Power_Steering       0\n",
       "Radio                0\n",
       "Mistlamps            0\n",
       "Sport_Model          0\n",
       "Backseat_Divider     0\n",
       "Metallic_Rim         0\n",
       "Radio_cassette       0\n",
       "Tow_Bar              0\n",
       "dtype: int64"
      ]
     },
     "execution_count": 345,
     "metadata": {},
     "output_type": "execute_result"
    }
   ],
   "source": [
    "data.isna().sum()"
   ]
  },
  {
   "cell_type": "code",
   "execution_count": 346,
   "metadata": {},
   "outputs": [],
   "source": [
    "data[\"Doors\"].fillna(data[\"Doors\"].median(), inplace = True)"
   ]
  },
  {
   "cell_type": "code",
   "execution_count": 347,
   "metadata": {},
   "outputs": [
    {
     "data": {
      "text/plain": [
       "<matplotlib.axes._subplots.AxesSubplot at 0x1a2fb32710>"
      ]
     },
     "execution_count": 347,
     "metadata": {},
     "output_type": "execute_result"
    },
    {
     "data": {
      "image/png": "[encoded data removed]",
      "text/plain": [
       "<Figure size 432x288 with 1 Axes>"
      ]
     },
     "metadata": {
      "needs_background": "light"
     },
     "output_type": "display_data"
    }
   ],
   "source": [
    "sns.distplot(data['Doors'])"
   ]
  },
  {
   "cell_type": "code",
   "execution_count": 348,
   "metadata": {},
   "outputs": [],
   "source": [
    "new_doors = []\n",
    "for item in data[\"Doors\"]:\n",
    "    if item == 2 or item == 4 :\n",
    "        item = 0 #Sedan\n",
    "        new_doors.append(item)\n",
    "    else:\n",
    "        item = 1 #Wagon\n",
    "        new_doors.append(item)\n",
    "\n",
    "new_doors_df = pd.DataFrame(new_doors)\n",
    "data['New_Doors'] = new_doors_df"
   ]
  },
  {
   "cell_type": "code",
   "execution_count": 349,
   "metadata": {},
   "outputs": [],
   "source": [
    "data.drop([\"Doors\"], axis=1, inplace=True)"
   ]
  },
  {
   "cell_type": "markdown",
   "metadata": {},
   "source": [
    "### Treat missing values"
   ]
  },
  {
   "cell_type": "code",
   "execution_count": 350,
   "metadata": {},
   "outputs": [],
   "source": [
    "data[\"Cylinders\"].fillna(data[\"Cylinders\"].median(), inplace = True)"
   ]
  },
  {
   "cell_type": "code",
   "execution_count": 351,
   "metadata": {},
   "outputs": [],
   "source": [
    "data[\"Gears\"].fillna(data[\"Gears\"].median(), inplace = True)"
   ]
  },
  {
   "cell_type": "code",
   "execution_count": 352,
   "metadata": {},
   "outputs": [],
   "source": [
    "data[\"Weight\"].fillna(data[\"Weight\"].mean(), inplace = True)"
   ]
  },
  {
   "cell_type": "code",
   "execution_count": 353,
   "metadata": {},
   "outputs": [
    {
     "name": "stdout",
     "output_type": "stream",
     "text": [
      "<class 'pandas.core.frame.DataFrame'>\n",
      "RangeIndex: 1436 entries, 0 to 1435\n",
      "Data columns (total 33 columns):\n",
      "Price               1436 non-null int64\n",
      "Age_08_04           1436 non-null int64\n",
      "Mfg_Month           1436 non-null int64\n",
      "Mfg_Year            1436 non-null int64\n",
      "KM                  1436 non-null int64\n",
      "Fuel_Type           1436 non-null object\n",
      "HP                  1436 non-null int64\n",
      "Met_Color           1436 non-null int64\n",
      "Automatic           1436 non-null int64\n",
      "cc                  1436 non-null float64\n",
      "Cylinders           1436 non-null float64\n",
      "Gears               1436 non-null float64\n",
      "Weight              1436 non-null float64\n",
      "Mfr_Guarantee       1436 non-null int64\n",
      "BOVAG_Guarantee     1436 non-null int64\n",
      "ABS                 1436 non-null int64\n",
      "Airbag_1            1436 non-null int64\n",
      "Airbag_2            1436 non-null int64\n",
      "Airco               1436 non-null int64\n",
      "Automatic_airco     1436 non-null int64\n",
      "Boardcomputer       1436 non-null int64\n",
      "CD_Player           1436 non-null int64\n",
      "Central_Lock        1436 non-null int64\n",
      "Powered_Windows     1436 non-null int64\n",
      "Power_Steering      1436 non-null int64\n",
      "Radio               1436 non-null int64\n",
      "Mistlamps           1436 non-null int64\n",
      "Sport_Model         1436 non-null int64\n",
      "Backseat_Divider    1436 non-null int64\n",
      "Metallic_Rim        1436 non-null int64\n",
      "Radio_cassette      1436 non-null int64\n",
      "Tow_Bar             1436 non-null int64\n",
      "New_Doors           1436 non-null int64\n",
      "dtypes: float64(4), int64(28), object(1)\n",
      "memory usage: 370.3+ KB\n"
     ]
    }
   ],
   "source": [
    "data.info()"
   ]
  },
  {
   "cell_type": "code",
   "execution_count": 354,
   "metadata": {},
   "outputs": [],
   "source": [
    "data = pd.get_dummies(data, drop_first=True)"
   ]
  },
  {
   "cell_type": "markdown",
   "metadata": {},
   "source": [
    "# 3. Scaling the data"
   ]
  },
  {
   "cell_type": "code",
   "execution_count": 355,
   "metadata": {},
   "outputs": [],
   "source": [
    "x = data.iloc[:,1:]\n",
    "y = data['Price']"
   ]
  },
  {
   "cell_type": "code",
   "execution_count": 356,
   "metadata": {},
   "outputs": [],
   "source": [
    "from sklearn.model_selection import train_test_split\n",
    "X_train, X_test, y_train, y_test = train_test_split(x,y, test_size=0.2, random_state = 0)"
   ]
  },
  {
   "cell_type": "code",
   "execution_count": 357,
   "metadata": {},
   "outputs": [],
   "source": [
    "from sklearn.preprocessing import StandardScaler\n",
    "scaler = StandardScaler()\n",
    "X_train_sc = scaler.fit_transform(X_train)\n",
    "X_test_sc = scaler.transform(X_test)"
   ]
  },
  {
   "cell_type": "markdown",
   "metadata": {},
   "source": [
    "# 4. Applying ML Models"
   ]
  },
  {
   "cell_type": "markdown",
   "metadata": {},
   "source": [
    "## 1. Linear Regression"
   ]
  },
  {
   "cell_type": "code",
   "execution_count": 572,
   "metadata": {},
   "outputs": [],
   "source": [
    "from sklearn.linear_model import LinearRegression\n",
    "lm = LinearRegression()\n",
    "lm.fit(X_train_sc, y_train)\n",
    "pred = lm.predict(X_test_sc)"
   ]
  },
  {
   "cell_type": "code",
   "execution_count": 573,
   "metadata": {},
   "outputs": [
    {
     "data": {
      "text/html": [
       "<div>\n",
       "<style scoped>\n",
       "    .dataframe tbody tr th:only-of-type {\n",
       "        vertical-align: middle;\n",
       "    }\n",
       "\n",
       "    .dataframe tbody tr th {\n",
       "        vertical-align: top;\n",
       "    }\n",
       "\n",
       "    .dataframe thead th {\n",
       "        text-align: right;\n",
       "    }\n",
       "</style>\n",
       "<table border=\"1\" class=\"dataframe\">\n",
       "  <thead>\n",
       "    <tr style=\"text-align: right;\">\n",
       "      <th></th>\n",
       "      <th>Actual</th>\n",
       "      <th>Predicted</th>\n",
       "    </tr>\n",
       "  </thead>\n",
       "  <tbody>\n",
       "    <tr>\n",
       "      <td>651</td>\n",
       "      <td>7950</td>\n",
       "      <td>8722.633719</td>\n",
       "    </tr>\n",
       "    <tr>\n",
       "      <td>411</td>\n",
       "      <td>10950</td>\n",
       "      <td>10749.671535</td>\n",
       "    </tr>\n",
       "    <tr>\n",
       "      <td>342</td>\n",
       "      <td>14950</td>\n",
       "      <td>13566.695022</td>\n",
       "    </tr>\n",
       "    <tr>\n",
       "      <td>1298</td>\n",
       "      <td>7500</td>\n",
       "      <td>7847.249975</td>\n",
       "    </tr>\n",
       "    <tr>\n",
       "      <td>483</td>\n",
       "      <td>9900</td>\n",
       "      <td>10739.535495</td>\n",
       "    </tr>\n",
       "    <tr>\n",
       "      <td>...</td>\n",
       "      <td>...</td>\n",
       "      <td>...</td>\n",
       "    </tr>\n",
       "    <tr>\n",
       "      <td>1029</td>\n",
       "      <td>10450</td>\n",
       "      <td>11010.450969</td>\n",
       "    </tr>\n",
       "    <tr>\n",
       "      <td>520</td>\n",
       "      <td>9400</td>\n",
       "      <td>9755.968564</td>\n",
       "    </tr>\n",
       "    <tr>\n",
       "      <td>996</td>\n",
       "      <td>9950</td>\n",
       "      <td>10721.024332</td>\n",
       "    </tr>\n",
       "    <tr>\n",
       "      <td>333</td>\n",
       "      <td>11750</td>\n",
       "      <td>12370.316272</td>\n",
       "    </tr>\n",
       "    <tr>\n",
       "      <td>1069</td>\n",
       "      <td>7950</td>\n",
       "      <td>7382.227961</td>\n",
       "    </tr>\n",
       "  </tbody>\n",
       "</table>\n",
       "<p>288 rows × 2 columns</p>\n",
       "</div>"
      ],
      "text/plain": [
       "      Actual     Predicted\n",
       "651     7950   8722.633719\n",
       "411    10950  10749.671535\n",
       "342    14950  13566.695022\n",
       "1298    7500   7847.249975\n",
       "483     9900  10739.535495\n",
       "...      ...           ...\n",
       "1029   10450  11010.450969\n",
       "520     9400   9755.968564\n",
       "996     9950  10721.024332\n",
       "333    11750  12370.316272\n",
       "1069    7950   7382.227961\n",
       "\n",
       "[288 rows x 2 columns]"
      ]
     },
     "execution_count": 573,
     "metadata": {},
     "output_type": "execute_result"
    }
   ],
   "source": [
    "df = pd.DataFrame({'Actual': y_test, 'Predicted': (pred)})\n",
    "df"
   ]
  },
  {
   "cell_type": "code",
   "execution_count": 586,
   "metadata": {},
   "outputs": [
    {
     "name": "stdout",
     "output_type": "stream",
     "text": [
      "0.851350409228317\n"
     ]
    }
   ],
   "source": [
    "from sklearn.metrics import r2_score\n",
    "lin_Rsq = r2_score(y_test, pred)\n",
    "print(lin_Rsq)"
   ]
  },
  {
   "cell_type": "code",
   "execution_count": 575,
   "metadata": {},
   "outputs": [
    {
     "data": {
      "text/plain": [
       "1359.9783865078286"
      ]
     },
     "execution_count": 575,
     "metadata": {},
     "output_type": "execute_result"
    }
   ],
   "source": [
    "np.sqrt(((y_test-pred)**2).mean())"
   ]
  },
  {
   "cell_type": "code",
   "execution_count": 576,
   "metadata": {},
   "outputs": [
    {
     "name": "stdout",
     "output_type": "stream",
     "text": [
      "Linear Regression\n",
      "\n",
      "Train score --> 91.02\n",
      "Test score  --> 85.14\n",
      "RMSE LREG   --> 1849541.2117684362\n"
     ]
    }
   ],
   "source": [
    "print('Linear Regression')\n",
    "lreg_score_train = round((lm.score(X_train_sc, y_train)*100),2)\n",
    "print(\"\\nTrain score -->\",lreg_score_train)\n",
    "lreg_score_test = round((lm.score(X_test_sc, y_test)*100),2)\n",
    "print(\"Test score  -->\",lreg_score_test)\n",
    "y_pred_test = lm.predict(X_test_sc)\n",
    "rmse_lreg = np.sqrt(mean_squared_error(pred, y_test)**2)\n",
    "print(\"RMSE LREG   -->\",rmse_lreg)"
   ]
  },
  {
   "cell_type": "code",
   "execution_count": 361,
   "metadata": {
    "scrolled": true
   },
   "outputs": [
    {
     "data": {
      "image/png": "[encoded data removed]",
      "text/plain": [
       "<Figure size 1152x720 with 1 Axes>"
      ]
     },
     "metadata": {
      "needs_background": "light"
     },
     "output_type": "display_data"
    }
   ],
   "source": [
    "df1 = df.head(25)\n",
    "df1.plot(kind='bar',figsize=(16,10))\n",
    "plt.grid(which='major', linestyle='-', linewidth='0.5', color='green')\n",
    "plt.grid(which='minor', linestyle=':', linewidth='0.5', color='black')\n",
    "plt.show()"
   ]
  },
  {
   "cell_type": "markdown",
   "metadata": {},
   "source": [
    "# 2. Ridge Regression"
   ]
  },
  {
   "cell_type": "markdown",
   "metadata": {},
   "source": [
    "### Ridge Regression with Grid Search"
   ]
  },
  {
   "cell_type": "code",
   "execution_count": 558,
   "metadata": {},
   "outputs": [
    {
     "name": "stdout",
     "output_type": "stream",
     "text": [
      "\n",
      "Best tuning parameter from grid search --> {'alpha': 15}\n"
     ]
    }
   ],
   "source": [
    "#Taking range of Alpha values with 5 fold cross validation to find the best parameter\n",
    "ridge_params = {'alpha':[0.0001, 0.005, 0.01, 0.02, 0.05, 0.1, 0.5, 1, 5, 10, 15]}\n",
    "n = 10000\n",
    "grid_search_ridge = GridSearchCV(linear_model.Ridge(random_state=0), ridge_params, cv=5, n_jobs=-1)\n",
    "grid_search_ridge.fit(X_train_sc, y_train)\n",
    "\n",
    "print(\"\\nBest tuning parameter from grid search -->\" ,grid_search_ridge.best_params_)"
   ]
  },
  {
   "cell_type": "markdown",
   "metadata": {},
   "source": [
    "### Ridge Regression with best value of Alpha "
   ]
  },
  {
   "cell_type": "code",
   "execution_count": 590,
   "metadata": {},
   "outputs": [
    {
     "name": "stdout",
     "output_type": "stream",
     "text": [
      "\n",
      "Train score --> 91.01\n",
      "Test score  --> 85.12\n",
      "RMSE RIDGE  --> 2288073290574368.5\n"
     ]
    }
   ],
   "source": [
    "ridge = linear_model.Ridge(grid_search_ridge.best_params_['alpha'])\n",
    "ridge.fit(X_train_sc,y_train)\n",
    "\n",
    "ridge_score_train = round((ridge.score(X_train_sc,y_train)*100),2)\n",
    "print(\"\\nTrain score -->\",round((ridge.score(X_train_sc,y_train)*100),2) )\n",
    "\n",
    "ridge_score_test = round((ridge.score(X_test_sc,y_test)*100),2)\n",
    "print(\"Test score  -->\",round((ridge.score(X_test_sc,y_test)*100),2) )\n",
    "y_pred_test = ridge.predict(X_test)\n",
    "\n",
    "rmse_ridge = np.sqrt(mean_squared_error(y_pred_test, y_test)**2)\n",
    "print(\"RMSE RIDGE  -->\",rmse_ridge)\n",
    "\n"
   ]
  },
  {
   "cell_type": "markdown",
   "metadata": {},
   "source": [
    "### cross-validation to find average training and testing score"
   ]
  },
  {
   "cell_type": "code",
   "execution_count": 498,
   "metadata": {},
   "outputs": [
    {
     "name": "stdout",
     "output_type": "stream",
     "text": [
      "\n",
      "Mean Train score --> 0.8915998821106346\n",
      "Mean Test score  --> 0.8145866903273904\n"
     ]
    }
   ],
   "source": [
    "#Cross validation for mean score k = 10\n",
    "for alpha in [0.005, 0.02, 0.03, 0.05, 0.06, 0.5, 1, 5, 10, 15]:\n",
    "    train_scores = []\n",
    "    test_scores = []\n",
    "    train_scores.append(cross_val_score(linear_model.Ridge(alpha),X_train_sc,y_train,cv=10))\n",
    "    test_scores.append(cross_val_score(linear_model.Ridge(alpha),X_test_sc,y_test,cv=10))\n",
    "\n",
    "print(\"\\nMean Train score -->\",np.mean(train_scores))\n",
    "print(\"Mean Test score  -->\",np.mean(test_scores))"
   ]
  },
  {
   "cell_type": "code",
   "execution_count": null,
   "metadata": {},
   "outputs": [],
   "source": [
    "%matplotlib inline\n",
    "train_score_array = []\n",
    "test_score_array = []\n",
    "\n",
    "x_axis = np.array([0.005, 0.02, 0.03, 0.05, 0.06, 0.5, 1, 5, 10, 15])\n",
    "plt.plot(x_axis, np.array(train_scores).reshape(-1,1), c = 'g', label = 'Train Score')\n",
    "plt.plot(x_axis, np.array(test_scores).reshape(-1,1), c = 'b', label = 'Test Score')\n",
    "plt.legend()\n",
    "plt.ylabel('MSE')\n",
    "plt.xscale('log')\n",
    "plt.legend(loc = 4)\n",
    "plt.xlabel(r'$\\alpha$')"
   ]
  },
  {
   "cell_type": "markdown",
   "metadata": {},
   "source": [
    "# 3. Lasso Regression"
   ]
  },
  {
   "cell_type": "markdown",
   "metadata": {},
   "source": [
    "### Lasso Regression with Grid Search"
   ]
  },
  {
   "cell_type": "code",
   "execution_count": 409,
   "metadata": {},
   "outputs": [
    {
     "name": "stdout",
     "output_type": "stream",
     "text": [
      "\n",
      "Best tuning parameter from lasso search --> {'alpha': 10}\n"
     ]
    }
   ],
   "source": [
    "#Taking range of Alpha values with 5 fold cross validation to find the best parameter\n",
    "lasso_params = {'alpha':[0.0001, 0.005, 0.01, 0.02, 0.05, 0.1, 0.5, 1, 5, 7, 10]}\n",
    "\n",
    "grid_search_lasso = GridSearchCV(linear_model.Lasso(random_state=0), lasso_params, cv=10, n_jobs=-1)\n",
    "grid_search_lasso.fit(X_train_sc, y_train)\n",
    "\n",
    "print(\"\\nBest tuning parameter from lasso search -->\" ,grid_search_lasso.best_params_)"
   ]
  },
  {
   "cell_type": "markdown",
   "metadata": {},
   "source": [
    "### Lasso Regression with best value of Alpha "
   ]
  },
  {
   "cell_type": "code",
   "execution_count": 543,
   "metadata": {},
   "outputs": [
    {
     "name": "stdout",
     "output_type": "stream",
     "text": [
      "\n",
      "Train score --> 90.95\n",
      "Test score  --> 85.07\n",
      "RMSE LASSO  --> 2216707633565349.2\n"
     ]
    }
   ],
   "source": [
    "lasso = linear_model.Lasso(grid_search_lasso.best_params_['alpha'])\n",
    "lasso.fit(X_train_sc,y_train)\n",
    "\n",
    "lasso_score_train = round((lasso.score(X_train_sc,y_train)*100),2)\n",
    "print(\"\\nTrain score -->\",round((lasso.score(X_train_sc,y_train)*100),2) )\n",
    "\n",
    "lasso_score_test = round((lasso.score(X_test_sc,y_test)*100),2)\n",
    "print(\"Test score  -->\",round((lasso.score(X_test_sc,y_test)*100),2) )\n",
    "y_pred_test = lasso.predict(X_test)\n",
    "\n",
    "rmse_lasso = np.sqrt(mean_squared_error(y_pred_test, y_test)**2)\n",
    "print(\"RMSE LASSO  -->\",rmse_lasso)\n"
   ]
  },
  {
   "cell_type": "markdown",
   "metadata": {},
   "source": [
    "###  Lasso cross-validation to find average training and testing score"
   ]
  },
  {
   "cell_type": "code",
   "execution_count": 496,
   "metadata": {},
   "outputs": [
    {
     "name": "stderr",
     "output_type": "stream",
     "text": [
      "/Users/gauravbansal1600/opt/anaconda3/lib/python3.7/site-packages/sklearn/linear_model/_coordinate_descent.py:476: ConvergenceWarning: Objective did not converge. You might want to increase the number of iterations. Duality gap: 13000739.052794218, tolerance: 1375559.964887125\n",
      "  positive)\n",
      "/Users/gauravbansal1600/opt/anaconda3/lib/python3.7/site-packages/sklearn/linear_model/_coordinate_descent.py:476: ConvergenceWarning: Objective did not converge. You might want to increase the number of iterations. Duality gap: 98252986.78006506, tolerance: 1373841.2379161667\n",
      "  positive)\n",
      "/Users/gauravbansal1600/opt/anaconda3/lib/python3.7/site-packages/sklearn/linear_model/_coordinate_descent.py:476: ConvergenceWarning: Objective did not converge. You might want to increase the number of iterations. Duality gap: 12282399.999998331, tolerance: 1373841.2379161667\n",
      "  positive)\n",
      "/Users/gauravbansal1600/opt/anaconda3/lib/python3.7/site-packages/sklearn/linear_model/_coordinate_descent.py:476: ConvergenceWarning: Objective did not converge. You might want to increase the number of iterations. Duality gap: 5981921.909534693, tolerance: 1373841.2379161667\n",
      "  positive)\n",
      "/Users/gauravbansal1600/opt/anaconda3/lib/python3.7/site-packages/sklearn/linear_model/_coordinate_descent.py:476: ConvergenceWarning: Objective did not converge. You might want to increase the number of iterations. Duality gap: 2327745.97928524, tolerance: 1373841.2379161667\n",
      "  positive)\n",
      "/Users/gauravbansal1600/opt/anaconda3/lib/python3.7/site-packages/sklearn/linear_model/_coordinate_descent.py:476: ConvergenceWarning: Objective did not converge. You might want to increase the number of iterations. Duality gap: 1654580.689915657, tolerance: 1373841.2379161667\n",
      "  positive)\n",
      "/Users/gauravbansal1600/opt/anaconda3/lib/python3.7/site-packages/sklearn/linear_model/_coordinate_descent.py:476: ConvergenceWarning: Objective did not converge. You might want to increase the number of iterations. Duality gap: 342047.9721055627, tolerance: 330105.45675675676\n",
      "  positive)\n",
      "/Users/gauravbansal1600/opt/anaconda3/lib/python3.7/site-packages/sklearn/linear_model/_coordinate_descent.py:476: ConvergenceWarning: Objective did not converge. You might want to increase the number of iterations. Duality gap: 358422.25598579645, tolerance: 330482.49996139\n",
      "  positive)\n",
      "/Users/gauravbansal1600/opt/anaconda3/lib/python3.7/site-packages/sklearn/linear_model/_coordinate_descent.py:476: ConvergenceWarning: Objective did not converge. You might want to increase the number of iterations. Duality gap: 341091.4287971854, tolerance: 328777.93276061775\n",
      "  positive)\n",
      "/Users/gauravbansal1600/opt/anaconda3/lib/python3.7/site-packages/sklearn/linear_model/_coordinate_descent.py:476: ConvergenceWarning: Objective did not converge. You might want to increase the number of iterations. Duality gap: 337638.5063647628, tolerance: 331163.6063320463\n",
      "  positive)\n",
      "/Users/gauravbansal1600/opt/anaconda3/lib/python3.7/site-packages/sklearn/linear_model/_coordinate_descent.py:476: ConvergenceWarning: Objective did not converge. You might want to increase the number of iterations. Duality gap: 384713.60903918743, tolerance: 321279.6125289576\n",
      "  positive)\n",
      "/Users/gauravbansal1600/opt/anaconda3/lib/python3.7/site-packages/sklearn/linear_model/_coordinate_descent.py:476: ConvergenceWarning: Objective did not converge. You might want to increase the number of iterations. Duality gap: 370416.20219665766, tolerance: 310591.44902884617\n",
      "  positive)\n"
     ]
    },
    {
     "name": "stdout",
     "output_type": "stream",
     "text": [
      "\n",
      "Mean Train score --> 89.18333114428607\n",
      "Mean Test score  --> 81.31567784629976\n"
     ]
    }
   ],
   "source": [
    "#Cross validation for mean score k = 10\n",
    "for alpha in [0.005, 0.02, 0.03, 0.05, 0.06, 0.5, 1, 5, 10, 15]:\n",
    "    train_scores = []\n",
    "    test_scores = []\n",
    "    train_scores.append(cross_val_score(linear_model.Lasso(alpha),X_train_sc,y_train,cv=10))\n",
    "    test_scores.append(cross_val_score(linear_model.Lasso(alpha),X_test_sc,y_test,cv=10))\n",
    "\n",
    "print(\"\\nMean Train score -->\",np.mean(train_scores)*100)\n",
    "print(\"Mean Test score  -->\",np.mean(test_scores)*100)"
   ]
  },
  {
   "cell_type": "code",
   "execution_count": 502,
   "metadata": {},
   "outputs": [
    {
     "data": {
      "text/plain": [
       "Text(0.5, 0, '$\\\\alpha$')"
      ]
     },
     "execution_count": 502,
     "metadata": {},
     "output_type": "execute_result"
    },
    {
     "data": {
      "image/png": "[encoded data removed]",
      "text/plain": [
       "<Figure size 432x288 with 1 Axes>"
      ]
     },
     "metadata": {
      "needs_background": "light"
     },
     "output_type": "display_data"
    }
   ],
   "source": [
    "%matplotlib inline\n",
    "train_score_array = []\n",
    "test_score_array = []\n",
    "\n",
    "x_axis = np.array([0.005, 0.02, 0.03, 0.05, 0.06, 0.5, 1, 5, 10, 15])\n",
    "plt.plot(x_axis, np.array(train_scores).reshape(-1,1), c = 'g', label = 'Train Score')\n",
    "plt.plot(x_axis, np.array(test_scores).reshape(-1,1), c = 'b', label = 'Test Score')\n",
    "plt.legend()\n",
    "plt.ylabel('MSE')\n",
    "plt.xscale('log')\n",
    "plt.legend(loc = 3)\n",
    "plt.xlabel(r'$\\alpha$')"
   ]
  },
  {
   "cell_type": "markdown",
   "metadata": {},
   "source": [
    "# 4. SVM"
   ]
  },
  {
   "cell_type": "markdown",
   "metadata": {},
   "source": [
    "### SVR Regression with Grid Search"
   ]
  },
  {
   "cell_type": "code",
   "execution_count": 522,
   "metadata": {},
   "outputs": [],
   "source": [
    "gsc = GridSearchCV(\n",
    "        estimator=SVR(),\n",
    "        param_grid={\n",
    "            'C': [0.1, 1, 100, 1000],\n",
    "            'gamma': [0.0001, 0.001, 0.005, 0.1, 1, 3, 5],\n",
    "            'kernel':('linear', 'rbf','poly')\n",
    "        },\n",
    "        cv=5, scoring='neg_mean_squared_error', verbose=0, n_jobs=-1)"
   ]
  },
  {
   "cell_type": "code",
   "execution_count": 523,
   "metadata": {},
   "outputs": [
    {
     "data": {
      "text/plain": [
       "GridSearchCV(cv=5, error_score=nan,\n",
       "             estimator=SVR(C=1.0, cache_size=200, coef0=0.0, degree=3,\n",
       "                           epsilon=0.1, gamma='scale', kernel='rbf',\n",
       "                           max_iter=-1, shrinking=True, tol=0.001,\n",
       "                           verbose=False),\n",
       "             iid='deprecated', n_jobs=-1,\n",
       "             param_grid={'C': [0.1, 1, 100, 1000],\n",
       "                         'gamma': [0.0001, 0.001, 0.005, 0.1, 1, 3, 5],\n",
       "                         'kernel': ('linear', 'rbf', 'poly')},\n",
       "             pre_dispatch='2*n_jobs', refit=True, return_train_score=False,\n",
       "             scoring='neg_mean_squared_error', verbose=0)"
      ]
     },
     "execution_count": 523,
     "metadata": {},
     "output_type": "execute_result"
    }
   ],
   "source": [
    "gsc.fit(X_train_sc, y_train)"
   ]
  },
  {
   "cell_type": "code",
   "execution_count": 524,
   "metadata": {},
   "outputs": [
    {
     "name": "stdout",
     "output_type": "stream",
     "text": [
      "Best parameters: {'C': 100, 'gamma': 0.0001, 'kernel': 'linear'}\n",
      "\n",
      "Train score   --> -1269534.8639879604\n",
      "Test score    --> -1959587.1254378888\n",
      "RMSE SVM Reg  --> 1959587.1254378888\n"
     ]
    }
   ],
   "source": [
    "print(\"Best parameters: {}\".format(gsc.best_params_))\n",
    "print(\"\\nTrain score   -->\" , gsc.score(X_train_sc,y_train))\n",
    "print(\"Test score    -->\", gsc.score(X_test_sc,y_test))\n",
    "y_pred_test = gsc.predict(X_test_sc)\n",
    "rmse_svm = np.sqrt(mean_squared_error(y_pred_test, y_test)**2)\n",
    "print(\"RMSE SVM Reg  -->\",rmse_svm)"
   ]
  },
  {
   "cell_type": "markdown",
   "metadata": {},
   "source": [
    "### SVR Regression with best parameter"
   ]
  },
  {
   "cell_type": "code",
   "execution_count": 546,
   "metadata": {},
   "outputs": [
    {
     "name": "stdout",
     "output_type": "stream",
     "text": [
      "\n",
      "Mean Train score --> 90.47\n",
      "Mean Test score  --> 84.25\n",
      "RMSE SVR Regressor  --> 1959587.1254378888\n"
     ]
    }
   ],
   "source": [
    "clf_SVR = SVR(C=100, kernel='linear', gamma = .0001)\n",
    "clf_SVR.fit(X_train_sc, y_train)\n",
    "clf_pred = clf_SVR.predict(X_test_sc)\n",
    "\n",
    "SVR_reg_train_score = round((clf_SVR.score(X_train_sc, y_train)*100),2)\n",
    "SVR_reg_test_score= round((clf_SVR.score(X_test_sc, y_test)*100),2)\n",
    "print(\"\\nMean Train score -->\",SVR_reg_train_score)\n",
    "print(\"Mean Test score  -->\",SVR_reg_test_score)\n",
    "\n",
    "rmse_SVR = np.sqrt(mean_squared_error(clf_pred, y_test)**2)\n",
    "print(\"RMSE SVR Regressor  -->\",rmse_SVR)"
   ]
  },
  {
   "cell_type": "markdown",
   "metadata": {},
   "source": [
    "### SVR cross-validation to find average training and testing score"
   ]
  },
  {
   "cell_type": "code",
   "execution_count": 528,
   "metadata": {},
   "outputs": [
    {
     "name": "stdout",
     "output_type": "stream",
     "text": [
      "\n",
      "Mean Train score --> 88.97903625096377\n",
      "Mean Test score  --> 80.74416581793633\n"
     ]
    }
   ],
   "source": [
    "train_scores = []\n",
    "test_scores = []\n",
    "train_scores.append(cross_val_score(clf_SVR,X_train_sc,y_train,cv=10))\n",
    "test_scores.append(cross_val_score(clf_SVR,X_test_sc,y_test,cv=10))\n",
    "\n",
    "print(\"\\nMean Train score -->\",np.mean(train_scores)*100)\n",
    "print(\"Mean Test score  -->\",np.mean(test_scores)*100)"
   ]
  },
  {
   "cell_type": "markdown",
   "metadata": {},
   "source": [
    "# 5. KNN"
   ]
  },
  {
   "cell_type": "markdown",
   "metadata": {},
   "source": [
    "### KNN Regression with Grid Search"
   ]
  },
  {
   "cell_type": "code",
   "execution_count": 484,
   "metadata": {},
   "outputs": [
    {
     "name": "stdout",
     "output_type": "stream",
     "text": [
      "{'n_neighbors': 9}\n",
      "KNeighborsRegressor(algorithm='auto', leaf_size=30, metric='minkowski',\n",
      "                    metric_params=None, n_jobs=None, n_neighbors=9, p=2,\n",
      "                    weights='uniform')\n"
     ]
    }
   ],
   "source": [
    "k_range = list(range(1,10))\n",
    "weight_options = [\"uniform\", \"distance\"]\n",
    "\n",
    "param_grid = dict(n_neighbors = k_range)\n",
    "\n",
    "#print (param_grid)\n",
    "knn = KNeighborsRegressor()\n",
    "\n",
    "grid = GridSearchCV(knn, param_grid, cv = 10)\n",
    "grid.fit(X_train_sc,y_train)\n",
    "print (grid.best_params_)\n",
    "print (grid.best_estimator_)"
   ]
  },
  {
   "cell_type": "markdown",
   "metadata": {},
   "source": [
    "### KNN Regression with best parameter"
   ]
  },
  {
   "cell_type": "code",
   "execution_count": 549,
   "metadata": {},
   "outputs": [
    {
     "name": "stdout",
     "output_type": "stream",
     "text": [
      "\n",
      "Train score --> 87.45\n",
      "Test score --> 80.78\n",
      "RMSE kNN Regressor  --> 2391081.7700188616\n"
     ]
    }
   ],
   "source": [
    "knn_reg = KNeighborsRegressor(grid.best_params_['n_neighbors'])\n",
    "knn_reg.fit(X_train_sc, y_train)\n",
    "\n",
    "knn_reg_train_score = round((knn_reg.score(X_train_sc, y_train)*100),2)\n",
    "print(\"\\nTrain score -->\",knn_reg_train_score)\n",
    "knn_reg_test_score= round((knn_reg.score(X_test_sc, y_test)*100),2)\n",
    "print(\"Test score -->\",knn_reg_test_score)\n",
    "\n",
    "\n",
    "y_pred_test = knn_reg.predict(X_test_sc)\n",
    "rmse_knn = np.sqrt(mean_squared_error(y_pred_test, y_test)**2)\n",
    "print(\"RMSE kNN Regressor  -->\",rmse_knn)"
   ]
  },
  {
   "cell_type": "markdown",
   "metadata": {},
   "source": [
    "### KNN cross-validation to find average training and testing score"
   ]
  },
  {
   "cell_type": "code",
   "execution_count": 464,
   "metadata": {},
   "outputs": [
    {
     "name": "stdout",
     "output_type": "stream",
     "text": [
      "\n",
      "Mean Train score --> 0.836566851442698\n",
      "Mean Test score  --> 0.7064432764111671\n"
     ]
    }
   ],
   "source": [
    "train_scores = []\n",
    "test_scores = []\n",
    "for k in range(1,10):\n",
    "    train_scores.append(cross_val_score(KNeighborsRegressor(k),X_train_sc,y_train,cv=10))\n",
    "    test_scores.append(cross_val_score(KNeighborsRegressor(k),X_test_sc,y_test,cv=10))\n",
    "print(\"\\nMean Train score -->\",np.mean(train_scores))\n",
    "print(\"Mean Test score  -->\",np.mean(test_scores))"
   ]
  },
  {
   "cell_type": "code",
   "execution_count": 495,
   "metadata": {},
   "outputs": [
    {
     "data": {
      "text/plain": [
       "Text(0, 0.5, 'MSE')"
      ]
     },
     "execution_count": 495,
     "metadata": {},
     "output_type": "execute_result"
    },
    {
     "data": {
      "image/png": "[encoded data removed]",
      "text/plain": [
       "<Figure size 432x288 with 1 Axes>"
      ]
     },
     "metadata": {
      "needs_background": "light"
     },
     "output_type": "display_data"
    }
   ],
   "source": [
    "%matplotlib inline\n",
    "train_score_array = []\n",
    "test_score_array = []\n",
    "\n",
    "x_axis = np.array([1,2,3,4,5,6,7,8,9,10])\n",
    "plt.plot(x_axis, np.array(train_scores).reshape(-1,1), c = 'g', label = 'Train Score')\n",
    "plt.plot(x_axis, np.array(test_scores).reshape(-1,1), c = 'b', label = 'Test Score')\n",
    "plt.legend()\n",
    "plt.xlabel('k')\n",
    "plt.ylabel('MSE')"
   ]
  },
  {
   "cell_type": "markdown",
   "metadata": {},
   "source": [
    "# 6. Polynomial Regression"
   ]
  },
  {
   "cell_type": "code",
   "execution_count": 529,
   "metadata": {},
   "outputs": [
    {
     "name": "stderr",
     "output_type": "stream",
     "text": [
      "/Users/gauravbansal1600/opt/anaconda3/lib/python3.7/site-packages/sklearn/model_selection/_validation.py:536: FitFailedWarning: Estimator fit failed. The score on this train-test partition for these parameters will be set to nan. Details: \n",
      "ValueError: could not broadcast input array from shape (918,33) into shape (918,0)\n",
      "\n",
      "  FitFailedWarning)\n",
      "/Users/gauravbansal1600/opt/anaconda3/lib/python3.7/site-packages/sklearn/model_selection/_validation.py:536: FitFailedWarning: Estimator fit failed. The score on this train-test partition for these parameters will be set to nan. Details: \n",
      "ValueError: could not broadcast input array from shape (918,33) into shape (918,0)\n",
      "\n",
      "  FitFailedWarning)\n",
      "/Users/gauravbansal1600/opt/anaconda3/lib/python3.7/site-packages/sklearn/model_selection/_validation.py:536: FitFailedWarning: Estimator fit failed. The score on this train-test partition for these parameters will be set to nan. Details: \n",
      "ValueError: could not broadcast input array from shape (918,33) into shape (918,0)\n",
      "\n",
      "  FitFailedWarning)\n",
      "/Users/gauravbansal1600/opt/anaconda3/lib/python3.7/site-packages/sklearn/model_selection/_validation.py:536: FitFailedWarning: Estimator fit failed. The score on this train-test partition for these parameters will be set to nan. Details: \n",
      "ValueError: could not broadcast input array from shape (919,33) into shape (919,0)\n",
      "\n",
      "  FitFailedWarning)\n",
      "/Users/gauravbansal1600/opt/anaconda3/lib/python3.7/site-packages/sklearn/model_selection/_validation.py:536: FitFailedWarning: Estimator fit failed. The score on this train-test partition for these parameters will be set to nan. Details: \n",
      "ValueError: could not broadcast input array from shape (919,33) into shape (919,0)\n",
      "\n",
      "  FitFailedWarning)\n",
      "/Users/gauravbansal1600/opt/anaconda3/lib/python3.7/site-packages/sklearn/model_selection/_validation.py:536: FitFailedWarning: Estimator fit failed. The score on this train-test partition for these parameters will be set to nan. Details: \n",
      "ValueError: could not broadcast input array from shape (918,33) into shape (918,0)\n",
      "\n",
      "  FitFailedWarning)\n",
      "/Users/gauravbansal1600/opt/anaconda3/lib/python3.7/site-packages/sklearn/model_selection/_validation.py:536: FitFailedWarning: Estimator fit failed. The score on this train-test partition for these parameters will be set to nan. Details: \n",
      "ValueError: could not broadcast input array from shape (918,33) into shape (918,0)\n",
      "\n",
      "  FitFailedWarning)\n",
      "/Users/gauravbansal1600/opt/anaconda3/lib/python3.7/site-packages/sklearn/model_selection/_validation.py:536: FitFailedWarning: Estimator fit failed. The score on this train-test partition for these parameters will be set to nan. Details: \n",
      "ValueError: could not broadcast input array from shape (918,33) into shape (918,0)\n",
      "\n",
      "  FitFailedWarning)\n",
      "/Users/gauravbansal1600/opt/anaconda3/lib/python3.7/site-packages/sklearn/model_selection/_validation.py:536: FitFailedWarning: Estimator fit failed. The score on this train-test partition for these parameters will be set to nan. Details: \n",
      "ValueError: could not broadcast input array from shape (919,33) into shape (919,0)\n",
      "\n",
      "  FitFailedWarning)\n",
      "/Users/gauravbansal1600/opt/anaconda3/lib/python3.7/site-packages/sklearn/model_selection/_validation.py:536: FitFailedWarning: Estimator fit failed. The score on this train-test partition for these parameters will be set to nan. Details: \n",
      "ValueError: could not broadcast input array from shape (919,33) into shape (919,0)\n",
      "\n",
      "  FitFailedWarning)\n",
      "/Users/gauravbansal1600/opt/anaconda3/lib/python3.7/site-packages/sklearn/model_selection/_validation.py:536: FitFailedWarning: Estimator fit failed. The score on this train-test partition for these parameters will be set to nan. Details: \n",
      "ValueError: could not broadcast input array from shape (918,33) into shape (918,0)\n",
      "\n",
      "  FitFailedWarning)\n",
      "/Users/gauravbansal1600/opt/anaconda3/lib/python3.7/site-packages/sklearn/model_selection/_validation.py:536: FitFailedWarning: Estimator fit failed. The score on this train-test partition for these parameters will be set to nan. Details: \n",
      "ValueError: could not broadcast input array from shape (918,33) into shape (918,0)\n",
      "\n",
      "  FitFailedWarning)\n",
      "/Users/gauravbansal1600/opt/anaconda3/lib/python3.7/site-packages/sklearn/model_selection/_validation.py:536: FitFailedWarning: Estimator fit failed. The score on this train-test partition for these parameters will be set to nan. Details: \n",
      "ValueError: could not broadcast input array from shape (918,33) into shape (918,0)\n",
      "\n",
      "  FitFailedWarning)\n",
      "/Users/gauravbansal1600/opt/anaconda3/lib/python3.7/site-packages/sklearn/model_selection/_validation.py:536: FitFailedWarning: Estimator fit failed. The score on this train-test partition for these parameters will be set to nan. Details: \n",
      "ValueError: could not broadcast input array from shape (919,33) into shape (919,0)\n",
      "\n",
      "  FitFailedWarning)\n",
      "/Users/gauravbansal1600/opt/anaconda3/lib/python3.7/site-packages/sklearn/model_selection/_validation.py:536: FitFailedWarning: Estimator fit failed. The score on this train-test partition for these parameters will be set to nan. Details: \n",
      "ValueError: could not broadcast input array from shape (919,33) into shape (919,0)\n",
      "\n",
      "  FitFailedWarning)\n",
      "/Users/gauravbansal1600/opt/anaconda3/lib/python3.7/site-packages/sklearn/model_selection/_validation.py:536: FitFailedWarning: Estimator fit failed. The score on this train-test partition for these parameters will be set to nan. Details: \n",
      "ValueError: could not broadcast input array from shape (918,33) into shape (918,0)\n",
      "\n",
      "  FitFailedWarning)\n",
      "/Users/gauravbansal1600/opt/anaconda3/lib/python3.7/site-packages/sklearn/model_selection/_validation.py:536: FitFailedWarning: Estimator fit failed. The score on this train-test partition for these parameters will be set to nan. Details: \n",
      "ValueError: could not broadcast input array from shape (918,33) into shape (918,0)\n",
      "\n",
      "  FitFailedWarning)\n",
      "/Users/gauravbansal1600/opt/anaconda3/lib/python3.7/site-packages/sklearn/model_selection/_validation.py:536: FitFailedWarning: Estimator fit failed. The score on this train-test partition for these parameters will be set to nan. Details: \n",
      "ValueError: could not broadcast input array from shape (918,33) into shape (918,0)\n",
      "\n",
      "  FitFailedWarning)\n",
      "/Users/gauravbansal1600/opt/anaconda3/lib/python3.7/site-packages/sklearn/model_selection/_validation.py:536: FitFailedWarning: Estimator fit failed. The score on this train-test partition for these parameters will be set to nan. Details: \n",
      "ValueError: could not broadcast input array from shape (919,33) into shape (919,0)\n",
      "\n",
      "  FitFailedWarning)\n",
      "/Users/gauravbansal1600/opt/anaconda3/lib/python3.7/site-packages/sklearn/model_selection/_validation.py:536: FitFailedWarning: Estimator fit failed. The score on this train-test partition for these parameters will be set to nan. Details: \n",
      "ValueError: could not broadcast input array from shape (919,33) into shape (919,0)\n",
      "\n",
      "  FitFailedWarning)\n"
     ]
    },
    {
     "name": "stdout",
     "output_type": "stream",
     "text": [
      "Best degree --> 1\n",
      "Best score --> 0.8919258274787794\n"
     ]
    }
   ],
   "source": [
    "from sklearn.pipeline import make_pipeline\n",
    "from sklearn.model_selection import GridSearchCV\n",
    "\n",
    "def PolynomialRegression(degree=2, **kwargs):\n",
    "    return make_pipeline(PolynomialFeatures(degree), LinearRegression(**kwargs))\n",
    "\n",
    "param_grid = {'polynomialfeatures__degree': np.arange(4), 'linearregression__fit_intercept': [True, False], 'linearregression__normalize': [True, False]}\n",
    "poly_grid = GridSearchCV(PolynomialRegression(), param_grid, cv=5)\n",
    "poly_grid.fit(X_train_sc, y_train)\n",
    "\n",
    "print(\"Best degree -->\",poly_grid.best_params_['polynomialfeatures__degree'])\n",
    "print(\"Best score -->\",poly_grid.best_score_)\n"
   ]
  },
  {
   "cell_type": "code",
   "execution_count": 566,
   "metadata": {},
   "outputs": [
    {
     "name": "stdout",
     "output_type": "stream",
     "text": [
      "95.92\n",
      "54.27\n",
      "RMSE POLY  --> 2.9094590074408966e+31\n"
     ]
    }
   ],
   "source": [
    "poly = PolynomialFeatures(degree=2)\n",
    "X_train_poly = poly.fit_transform(X_train)\n",
    "X_test_poly = poly.transform(X_test)\n",
    "lm.fit(X_train_poly, y_train)\n",
    "poly_score_train = round((lm.score(X_train_poly, y_train)*100),2)\n",
    "print(poly_score_train)\n",
    "poly_score_test = round((lm.score(X_test_poly, y_test)*100),2)\n",
    "print(poly_score_test)\n",
    "\n",
    "y_pred_poly_test = poly_grid.predict(X_test)\n",
    "rmse_poly = np.sqrt(mean_squared_error(y_pred_poly_test, y_test)**2)\n",
    "print(\"RMSE POLY  -->\",rmse_poly)"
   ]
  },
  {
   "cell_type": "code",
   "execution_count": 531,
   "metadata": {},
   "outputs": [
    {
     "name": "stderr",
     "output_type": "stream",
     "text": [
      "/Users/gauravbansal1600/opt/anaconda3/lib/python3.7/site-packages/sklearn/model_selection/_validation.py:536: FitFailedWarning: Estimator fit failed. The score on this train-test partition for these parameters will be set to nan. Details: \n",
      "ValueError: could not broadcast input array from shape (734,33) into shape (734,0)\n",
      "\n",
      "  FitFailedWarning)\n",
      "/Users/gauravbansal1600/opt/anaconda3/lib/python3.7/site-packages/sklearn/model_selection/_validation.py:536: FitFailedWarning: Estimator fit failed. The score on this train-test partition for these parameters will be set to nan. Details: \n",
      "ValueError: could not broadcast input array from shape (734,33) into shape (734,0)\n",
      "\n",
      "  FitFailedWarning)\n",
      "/Users/gauravbansal1600/opt/anaconda3/lib/python3.7/site-packages/sklearn/model_selection/_validation.py:536: FitFailedWarning: Estimator fit failed. The score on this train-test partition for these parameters will be set to nan. Details: \n",
      "ValueError: could not broadcast input array from shape (734,33) into shape (734,0)\n",
      "\n",
      "  FitFailedWarning)\n",
      "/Users/gauravbansal1600/opt/anaconda3/lib/python3.7/site-packages/sklearn/model_selection/_validation.py:536: FitFailedWarning: Estimator fit failed. The score on this train-test partition for these parameters will be set to nan. Details: \n",
      "ValueError: could not broadcast input array from shape (735,33) into shape (735,0)\n",
      "\n",
      "  FitFailedWarning)\n",
      "/Users/gauravbansal1600/opt/anaconda3/lib/python3.7/site-packages/sklearn/model_selection/_validation.py:536: FitFailedWarning: Estimator fit failed. The score on this train-test partition for these parameters will be set to nan. Details: \n",
      "ValueError: could not broadcast input array from shape (735,33) into shape (735,0)\n",
      "\n",
      "  FitFailedWarning)\n",
      "/Users/gauravbansal1600/opt/anaconda3/lib/python3.7/site-packages/sklearn/model_selection/_validation.py:536: FitFailedWarning: Estimator fit failed. The score on this train-test partition for these parameters will be set to nan. Details: \n",
      "ValueError: could not broadcast input array from shape (734,33) into shape (734,0)\n",
      "\n",
      "  FitFailedWarning)\n",
      "/Users/gauravbansal1600/opt/anaconda3/lib/python3.7/site-packages/sklearn/model_selection/_validation.py:536: FitFailedWarning: Estimator fit failed. The score on this train-test partition for these parameters will be set to nan. Details: \n",
      "ValueError: could not broadcast input array from shape (734,33) into shape (734,0)\n",
      "\n",
      "  FitFailedWarning)\n",
      "/Users/gauravbansal1600/opt/anaconda3/lib/python3.7/site-packages/sklearn/model_selection/_validation.py:536: FitFailedWarning: Estimator fit failed. The score on this train-test partition for these parameters will be set to nan. Details: \n",
      "ValueError: could not broadcast input array from shape (734,33) into shape (734,0)\n",
      "\n",
      "  FitFailedWarning)\n",
      "/Users/gauravbansal1600/opt/anaconda3/lib/python3.7/site-packages/sklearn/model_selection/_validation.py:536: FitFailedWarning: Estimator fit failed. The score on this train-test partition for these parameters will be set to nan. Details: \n",
      "ValueError: could not broadcast input array from shape (735,33) into shape (735,0)\n",
      "\n",
      "  FitFailedWarning)\n",
      "/Users/gauravbansal1600/opt/anaconda3/lib/python3.7/site-packages/sklearn/model_selection/_validation.py:536: FitFailedWarning: Estimator fit failed. The score on this train-test partition for these parameters will be set to nan. Details: \n",
      "ValueError: could not broadcast input array from shape (735,33) into shape (735,0)\n",
      "\n",
      "  FitFailedWarning)\n",
      "/Users/gauravbansal1600/opt/anaconda3/lib/python3.7/site-packages/sklearn/model_selection/_validation.py:536: FitFailedWarning: Estimator fit failed. The score on this train-test partition for these parameters will be set to nan. Details: \n",
      "ValueError: could not broadcast input array from shape (734,33) into shape (734,0)\n",
      "\n",
      "  FitFailedWarning)\n",
      "/Users/gauravbansal1600/opt/anaconda3/lib/python3.7/site-packages/sklearn/model_selection/_validation.py:536: FitFailedWarning: Estimator fit failed. The score on this train-test partition for these parameters will be set to nan. Details: \n",
      "ValueError: could not broadcast input array from shape (734,33) into shape (734,0)\n",
      "\n",
      "  FitFailedWarning)\n",
      "/Users/gauravbansal1600/opt/anaconda3/lib/python3.7/site-packages/sklearn/model_selection/_validation.py:536: FitFailedWarning: Estimator fit failed. The score on this train-test partition for these parameters will be set to nan. Details: \n",
      "ValueError: could not broadcast input array from shape (734,33) into shape (734,0)\n",
      "\n",
      "  FitFailedWarning)\n",
      "/Users/gauravbansal1600/opt/anaconda3/lib/python3.7/site-packages/sklearn/model_selection/_validation.py:536: FitFailedWarning: Estimator fit failed. The score on this train-test partition for these parameters will be set to nan. Details: \n",
      "ValueError: could not broadcast input array from shape (735,33) into shape (735,0)\n",
      "\n",
      "  FitFailedWarning)\n",
      "/Users/gauravbansal1600/opt/anaconda3/lib/python3.7/site-packages/sklearn/model_selection/_validation.py:536: FitFailedWarning: Estimator fit failed. The score on this train-test partition for these parameters will be set to nan. Details: \n",
      "ValueError: could not broadcast input array from shape (735,33) into shape (735,0)\n",
      "\n",
      "  FitFailedWarning)\n",
      "/Users/gauravbansal1600/opt/anaconda3/lib/python3.7/site-packages/sklearn/model_selection/_validation.py:536: FitFailedWarning: Estimator fit failed. The score on this train-test partition for these parameters will be set to nan. Details: \n",
      "ValueError: could not broadcast input array from shape (734,33) into shape (734,0)\n",
      "\n",
      "  FitFailedWarning)\n",
      "/Users/gauravbansal1600/opt/anaconda3/lib/python3.7/site-packages/sklearn/model_selection/_validation.py:536: FitFailedWarning: Estimator fit failed. The score on this train-test partition for these parameters will be set to nan. Details: \n",
      "ValueError: could not broadcast input array from shape (734,33) into shape (734,0)\n",
      "\n",
      "  FitFailedWarning)\n",
      "/Users/gauravbansal1600/opt/anaconda3/lib/python3.7/site-packages/sklearn/model_selection/_validation.py:536: FitFailedWarning: Estimator fit failed. The score on this train-test partition for these parameters will be set to nan. Details: \n",
      "ValueError: could not broadcast input array from shape (734,33) into shape (734,0)\n",
      "\n",
      "  FitFailedWarning)\n",
      "/Users/gauravbansal1600/opt/anaconda3/lib/python3.7/site-packages/sklearn/model_selection/_validation.py:536: FitFailedWarning: Estimator fit failed. The score on this train-test partition for these parameters will be set to nan. Details: \n",
      "ValueError: could not broadcast input array from shape (735,33) into shape (735,0)\n",
      "\n",
      "  FitFailedWarning)\n",
      "/Users/gauravbansal1600/opt/anaconda3/lib/python3.7/site-packages/sklearn/model_selection/_validation.py:536: FitFailedWarning: Estimator fit failed. The score on this train-test partition for these parameters will be set to nan. Details: \n",
      "ValueError: could not broadcast input array from shape (735,33) into shape (735,0)\n",
      "\n",
      "  FitFailedWarning)\n",
      "/Users/gauravbansal1600/opt/anaconda3/lib/python3.7/site-packages/sklearn/model_selection/_validation.py:536: FitFailedWarning: Estimator fit failed. The score on this train-test partition for these parameters will be set to nan. Details: \n",
      "ValueError: could not broadcast input array from shape (734,33) into shape (734,0)\n",
      "\n",
      "  FitFailedWarning)\n",
      "/Users/gauravbansal1600/opt/anaconda3/lib/python3.7/site-packages/sklearn/model_selection/_validation.py:536: FitFailedWarning: Estimator fit failed. The score on this train-test partition for these parameters will be set to nan. Details: \n",
      "ValueError: could not broadcast input array from shape (734,33) into shape (734,0)\n",
      "\n",
      "  FitFailedWarning)\n",
      "/Users/gauravbansal1600/opt/anaconda3/lib/python3.7/site-packages/sklearn/model_selection/_validation.py:536: FitFailedWarning: Estimator fit failed. The score on this train-test partition for these parameters will be set to nan. Details: \n",
      "ValueError: could not broadcast input array from shape (734,33) into shape (734,0)\n",
      "\n",
      "  FitFailedWarning)\n",
      "/Users/gauravbansal1600/opt/anaconda3/lib/python3.7/site-packages/sklearn/model_selection/_validation.py:536: FitFailedWarning: Estimator fit failed. The score on this train-test partition for these parameters will be set to nan. Details: \n",
      "ValueError: could not broadcast input array from shape (735,33) into shape (735,0)\n",
      "\n",
      "  FitFailedWarning)\n",
      "/Users/gauravbansal1600/opt/anaconda3/lib/python3.7/site-packages/sklearn/model_selection/_validation.py:536: FitFailedWarning: Estimator fit failed. The score on this train-test partition for these parameters will be set to nan. Details: \n",
      "ValueError: could not broadcast input array from shape (735,33) into shape (735,0)\n",
      "\n",
      "  FitFailedWarning)\n"
     ]
    },
    {
     "name": "stderr",
     "output_type": "stream",
     "text": [
      "/Users/gauravbansal1600/opt/anaconda3/lib/python3.7/site-packages/sklearn/model_selection/_validation.py:536: FitFailedWarning: Estimator fit failed. The score on this train-test partition for these parameters will be set to nan. Details: \n",
      "ValueError: could not broadcast input array from shape (734,33) into shape (734,0)\n",
      "\n",
      "  FitFailedWarning)\n",
      "/Users/gauravbansal1600/opt/anaconda3/lib/python3.7/site-packages/sklearn/model_selection/_validation.py:536: FitFailedWarning: Estimator fit failed. The score on this train-test partition for these parameters will be set to nan. Details: \n",
      "ValueError: could not broadcast input array from shape (734,33) into shape (734,0)\n",
      "\n",
      "  FitFailedWarning)\n",
      "/Users/gauravbansal1600/opt/anaconda3/lib/python3.7/site-packages/sklearn/model_selection/_validation.py:536: FitFailedWarning: Estimator fit failed. The score on this train-test partition for these parameters will be set to nan. Details: \n",
      "ValueError: could not broadcast input array from shape (734,33) into shape (734,0)\n",
      "\n",
      "  FitFailedWarning)\n",
      "/Users/gauravbansal1600/opt/anaconda3/lib/python3.7/site-packages/sklearn/model_selection/_validation.py:536: FitFailedWarning: Estimator fit failed. The score on this train-test partition for these parameters will be set to nan. Details: \n",
      "ValueError: could not broadcast input array from shape (735,33) into shape (735,0)\n",
      "\n",
      "  FitFailedWarning)\n",
      "/Users/gauravbansal1600/opt/anaconda3/lib/python3.7/site-packages/sklearn/model_selection/_validation.py:536: FitFailedWarning: Estimator fit failed. The score on this train-test partition for these parameters will be set to nan. Details: \n",
      "ValueError: could not broadcast input array from shape (735,33) into shape (735,0)\n",
      "\n",
      "  FitFailedWarning)\n",
      "/Users/gauravbansal1600/opt/anaconda3/lib/python3.7/site-packages/sklearn/model_selection/_validation.py:536: FitFailedWarning: Estimator fit failed. The score on this train-test partition for these parameters will be set to nan. Details: \n",
      "ValueError: could not broadcast input array from shape (734,33) into shape (734,0)\n",
      "\n",
      "  FitFailedWarning)\n",
      "/Users/gauravbansal1600/opt/anaconda3/lib/python3.7/site-packages/sklearn/model_selection/_validation.py:536: FitFailedWarning: Estimator fit failed. The score on this train-test partition for these parameters will be set to nan. Details: \n",
      "ValueError: could not broadcast input array from shape (734,33) into shape (734,0)\n",
      "\n",
      "  FitFailedWarning)\n",
      "/Users/gauravbansal1600/opt/anaconda3/lib/python3.7/site-packages/sklearn/model_selection/_validation.py:536: FitFailedWarning: Estimator fit failed. The score on this train-test partition for these parameters will be set to nan. Details: \n",
      "ValueError: could not broadcast input array from shape (734,33) into shape (734,0)\n",
      "\n",
      "  FitFailedWarning)\n",
      "/Users/gauravbansal1600/opt/anaconda3/lib/python3.7/site-packages/sklearn/model_selection/_validation.py:536: FitFailedWarning: Estimator fit failed. The score on this train-test partition for these parameters will be set to nan. Details: \n",
      "ValueError: could not broadcast input array from shape (735,33) into shape (735,0)\n",
      "\n",
      "  FitFailedWarning)\n",
      "/Users/gauravbansal1600/opt/anaconda3/lib/python3.7/site-packages/sklearn/model_selection/_validation.py:536: FitFailedWarning: Estimator fit failed. The score on this train-test partition for these parameters will be set to nan. Details: \n",
      "ValueError: could not broadcast input array from shape (735,33) into shape (735,0)\n",
      "\n",
      "  FitFailedWarning)\n",
      "/Users/gauravbansal1600/opt/anaconda3/lib/python3.7/site-packages/sklearn/model_selection/_validation.py:536: FitFailedWarning: Estimator fit failed. The score on this train-test partition for these parameters will be set to nan. Details: \n",
      "ValueError: could not broadcast input array from shape (734,33) into shape (734,0)\n",
      "\n",
      "  FitFailedWarning)\n",
      "/Users/gauravbansal1600/opt/anaconda3/lib/python3.7/site-packages/sklearn/model_selection/_validation.py:536: FitFailedWarning: Estimator fit failed. The score on this train-test partition for these parameters will be set to nan. Details: \n",
      "ValueError: could not broadcast input array from shape (734,33) into shape (734,0)\n",
      "\n",
      "  FitFailedWarning)\n",
      "/Users/gauravbansal1600/opt/anaconda3/lib/python3.7/site-packages/sklearn/model_selection/_validation.py:536: FitFailedWarning: Estimator fit failed. The score on this train-test partition for these parameters will be set to nan. Details: \n",
      "ValueError: could not broadcast input array from shape (734,33) into shape (734,0)\n",
      "\n",
      "  FitFailedWarning)\n",
      "/Users/gauravbansal1600/opt/anaconda3/lib/python3.7/site-packages/sklearn/model_selection/_validation.py:536: FitFailedWarning: Estimator fit failed. The score on this train-test partition for these parameters will be set to nan. Details: \n",
      "ValueError: could not broadcast input array from shape (735,33) into shape (735,0)\n",
      "\n",
      "  FitFailedWarning)\n",
      "/Users/gauravbansal1600/opt/anaconda3/lib/python3.7/site-packages/sklearn/model_selection/_validation.py:536: FitFailedWarning: Estimator fit failed. The score on this train-test partition for these parameters will be set to nan. Details: \n",
      "ValueError: could not broadcast input array from shape (735,33) into shape (735,0)\n",
      "\n",
      "  FitFailedWarning)\n",
      "/Users/gauravbansal1600/opt/anaconda3/lib/python3.7/site-packages/sklearn/model_selection/_validation.py:536: FitFailedWarning: Estimator fit failed. The score on this train-test partition for these parameters will be set to nan. Details: \n",
      "ValueError: could not broadcast input array from shape (734,33) into shape (734,0)\n",
      "\n",
      "  FitFailedWarning)\n",
      "/Users/gauravbansal1600/opt/anaconda3/lib/python3.7/site-packages/sklearn/model_selection/_validation.py:536: FitFailedWarning: Estimator fit failed. The score on this train-test partition for these parameters will be set to nan. Details: \n",
      "ValueError: could not broadcast input array from shape (734,33) into shape (734,0)\n",
      "\n",
      "  FitFailedWarning)\n",
      "/Users/gauravbansal1600/opt/anaconda3/lib/python3.7/site-packages/sklearn/model_selection/_validation.py:536: FitFailedWarning: Estimator fit failed. The score on this train-test partition for these parameters will be set to nan. Details: \n",
      "ValueError: could not broadcast input array from shape (734,33) into shape (734,0)\n",
      "\n",
      "  FitFailedWarning)\n",
      "/Users/gauravbansal1600/opt/anaconda3/lib/python3.7/site-packages/sklearn/model_selection/_validation.py:536: FitFailedWarning: Estimator fit failed. The score on this train-test partition for these parameters will be set to nan. Details: \n",
      "ValueError: could not broadcast input array from shape (735,33) into shape (735,0)\n",
      "\n",
      "  FitFailedWarning)\n",
      "/Users/gauravbansal1600/opt/anaconda3/lib/python3.7/site-packages/sklearn/model_selection/_validation.py:536: FitFailedWarning: Estimator fit failed. The score on this train-test partition for these parameters will be set to nan. Details: \n",
      "ValueError: could not broadcast input array from shape (735,33) into shape (735,0)\n",
      "\n",
      "  FitFailedWarning)\n",
      "/Users/gauravbansal1600/opt/anaconda3/lib/python3.7/site-packages/sklearn/model_selection/_validation.py:536: FitFailedWarning: Estimator fit failed. The score on this train-test partition for these parameters will be set to nan. Details: \n",
      "ValueError: could not broadcast input array from shape (734,33) into shape (734,0)\n",
      "\n",
      "  FitFailedWarning)\n",
      "/Users/gauravbansal1600/opt/anaconda3/lib/python3.7/site-packages/sklearn/model_selection/_validation.py:536: FitFailedWarning: Estimator fit failed. The score on this train-test partition for these parameters will be set to nan. Details: \n",
      "ValueError: could not broadcast input array from shape (734,33) into shape (734,0)\n",
      "\n",
      "  FitFailedWarning)\n",
      "/Users/gauravbansal1600/opt/anaconda3/lib/python3.7/site-packages/sklearn/model_selection/_validation.py:536: FitFailedWarning: Estimator fit failed. The score on this train-test partition for these parameters will be set to nan. Details: \n",
      "ValueError: could not broadcast input array from shape (734,33) into shape (734,0)\n",
      "\n",
      "  FitFailedWarning)\n",
      "/Users/gauravbansal1600/opt/anaconda3/lib/python3.7/site-packages/sklearn/model_selection/_validation.py:536: FitFailedWarning: Estimator fit failed. The score on this train-test partition for these parameters will be set to nan. Details: \n",
      "ValueError: could not broadcast input array from shape (735,33) into shape (735,0)\n",
      "\n",
      "  FitFailedWarning)\n",
      "/Users/gauravbansal1600/opt/anaconda3/lib/python3.7/site-packages/sklearn/model_selection/_validation.py:536: FitFailedWarning: Estimator fit failed. The score on this train-test partition for these parameters will be set to nan. Details: \n",
      "ValueError: could not broadcast input array from shape (735,33) into shape (735,0)\n",
      "\n",
      "  FitFailedWarning)\n"
     ]
    },
    {
     "name": "stderr",
     "output_type": "stream",
     "text": [
      "/Users/gauravbansal1600/opt/anaconda3/lib/python3.7/site-packages/sklearn/model_selection/_validation.py:536: FitFailedWarning: Estimator fit failed. The score on this train-test partition for these parameters will be set to nan. Details: \n",
      "ValueError: could not broadcast input array from shape (734,33) into shape (734,0)\n",
      "\n",
      "  FitFailedWarning)\n",
      "/Users/gauravbansal1600/opt/anaconda3/lib/python3.7/site-packages/sklearn/model_selection/_validation.py:536: FitFailedWarning: Estimator fit failed. The score on this train-test partition for these parameters will be set to nan. Details: \n",
      "ValueError: could not broadcast input array from shape (734,33) into shape (734,0)\n",
      "\n",
      "  FitFailedWarning)\n",
      "/Users/gauravbansal1600/opt/anaconda3/lib/python3.7/site-packages/sklearn/model_selection/_validation.py:536: FitFailedWarning: Estimator fit failed. The score on this train-test partition for these parameters will be set to nan. Details: \n",
      "ValueError: could not broadcast input array from shape (734,33) into shape (734,0)\n",
      "\n",
      "  FitFailedWarning)\n",
      "/Users/gauravbansal1600/opt/anaconda3/lib/python3.7/site-packages/sklearn/model_selection/_validation.py:536: FitFailedWarning: Estimator fit failed. The score on this train-test partition for these parameters will be set to nan. Details: \n",
      "ValueError: could not broadcast input array from shape (735,33) into shape (735,0)\n",
      "\n",
      "  FitFailedWarning)\n",
      "/Users/gauravbansal1600/opt/anaconda3/lib/python3.7/site-packages/sklearn/model_selection/_validation.py:536: FitFailedWarning: Estimator fit failed. The score on this train-test partition for these parameters will be set to nan. Details: \n",
      "ValueError: could not broadcast input array from shape (735,33) into shape (735,0)\n",
      "\n",
      "  FitFailedWarning)\n",
      "/Users/gauravbansal1600/opt/anaconda3/lib/python3.7/site-packages/sklearn/model_selection/_validation.py:536: FitFailedWarning: Estimator fit failed. The score on this train-test partition for these parameters will be set to nan. Details: \n",
      "ValueError: could not broadcast input array from shape (734,33) into shape (734,0)\n",
      "\n",
      "  FitFailedWarning)\n",
      "/Users/gauravbansal1600/opt/anaconda3/lib/python3.7/site-packages/sklearn/model_selection/_validation.py:536: FitFailedWarning: Estimator fit failed. The score on this train-test partition for these parameters will be set to nan. Details: \n",
      "ValueError: could not broadcast input array from shape (734,33) into shape (734,0)\n",
      "\n",
      "  FitFailedWarning)\n",
      "/Users/gauravbansal1600/opt/anaconda3/lib/python3.7/site-packages/sklearn/model_selection/_validation.py:536: FitFailedWarning: Estimator fit failed. The score on this train-test partition for these parameters will be set to nan. Details: \n",
      "ValueError: could not broadcast input array from shape (734,33) into shape (734,0)\n",
      "\n",
      "  FitFailedWarning)\n",
      "/Users/gauravbansal1600/opt/anaconda3/lib/python3.7/site-packages/sklearn/model_selection/_validation.py:536: FitFailedWarning: Estimator fit failed. The score on this train-test partition for these parameters will be set to nan. Details: \n",
      "ValueError: could not broadcast input array from shape (735,33) into shape (735,0)\n",
      "\n",
      "  FitFailedWarning)\n",
      "/Users/gauravbansal1600/opt/anaconda3/lib/python3.7/site-packages/sklearn/model_selection/_validation.py:536: FitFailedWarning: Estimator fit failed. The score on this train-test partition for these parameters will be set to nan. Details: \n",
      "ValueError: could not broadcast input array from shape (735,33) into shape (735,0)\n",
      "\n",
      "  FitFailedWarning)\n",
      "/Users/gauravbansal1600/opt/anaconda3/lib/python3.7/site-packages/sklearn/model_selection/_validation.py:536: FitFailedWarning: Estimator fit failed. The score on this train-test partition for these parameters will be set to nan. Details: \n",
      "ValueError: could not broadcast input array from shape (735,33) into shape (735,0)\n",
      "\n",
      "  FitFailedWarning)\n",
      "/Users/gauravbansal1600/opt/anaconda3/lib/python3.7/site-packages/sklearn/model_selection/_validation.py:536: FitFailedWarning: Estimator fit failed. The score on this train-test partition for these parameters will be set to nan. Details: \n",
      "ValueError: could not broadcast input array from shape (735,33) into shape (735,0)\n",
      "\n",
      "  FitFailedWarning)\n",
      "/Users/gauravbansal1600/opt/anaconda3/lib/python3.7/site-packages/sklearn/model_selection/_validation.py:536: FitFailedWarning: Estimator fit failed. The score on this train-test partition for these parameters will be set to nan. Details: \n",
      "ValueError: could not broadcast input array from shape (735,33) into shape (735,0)\n",
      "\n",
      "  FitFailedWarning)\n",
      "/Users/gauravbansal1600/opt/anaconda3/lib/python3.7/site-packages/sklearn/model_selection/_validation.py:536: FitFailedWarning: Estimator fit failed. The score on this train-test partition for these parameters will be set to nan. Details: \n",
      "ValueError: could not broadcast input array from shape (735,33) into shape (735,0)\n",
      "\n",
      "  FitFailedWarning)\n",
      "/Users/gauravbansal1600/opt/anaconda3/lib/python3.7/site-packages/sklearn/model_selection/_validation.py:536: FitFailedWarning: Estimator fit failed. The score on this train-test partition for these parameters will be set to nan. Details: \n",
      "ValueError: could not broadcast input array from shape (736,33) into shape (736,0)\n",
      "\n",
      "  FitFailedWarning)\n",
      "/Users/gauravbansal1600/opt/anaconda3/lib/python3.7/site-packages/sklearn/model_selection/_validation.py:536: FitFailedWarning: Estimator fit failed. The score on this train-test partition for these parameters will be set to nan. Details: \n",
      "ValueError: could not broadcast input array from shape (735,33) into shape (735,0)\n",
      "\n",
      "  FitFailedWarning)\n",
      "/Users/gauravbansal1600/opt/anaconda3/lib/python3.7/site-packages/sklearn/model_selection/_validation.py:536: FitFailedWarning: Estimator fit failed. The score on this train-test partition for these parameters will be set to nan. Details: \n",
      "ValueError: could not broadcast input array from shape (735,33) into shape (735,0)\n",
      "\n",
      "  FitFailedWarning)\n",
      "/Users/gauravbansal1600/opt/anaconda3/lib/python3.7/site-packages/sklearn/model_selection/_validation.py:536: FitFailedWarning: Estimator fit failed. The score on this train-test partition for these parameters will be set to nan. Details: \n",
      "ValueError: could not broadcast input array from shape (735,33) into shape (735,0)\n",
      "\n",
      "  FitFailedWarning)\n",
      "/Users/gauravbansal1600/opt/anaconda3/lib/python3.7/site-packages/sklearn/model_selection/_validation.py:536: FitFailedWarning: Estimator fit failed. The score on this train-test partition for these parameters will be set to nan. Details: \n",
      "ValueError: could not broadcast input array from shape (735,33) into shape (735,0)\n",
      "\n",
      "  FitFailedWarning)\n",
      "/Users/gauravbansal1600/opt/anaconda3/lib/python3.7/site-packages/sklearn/model_selection/_validation.py:536: FitFailedWarning: Estimator fit failed. The score on this train-test partition for these parameters will be set to nan. Details: \n",
      "ValueError: could not broadcast input array from shape (736,33) into shape (736,0)\n",
      "\n",
      "  FitFailedWarning)\n",
      "/Users/gauravbansal1600/opt/anaconda3/lib/python3.7/site-packages/sklearn/model_selection/_validation.py:536: FitFailedWarning: Estimator fit failed. The score on this train-test partition for these parameters will be set to nan. Details: \n",
      "ValueError: could not broadcast input array from shape (735,33) into shape (735,0)\n",
      "\n",
      "  FitFailedWarning)\n",
      "/Users/gauravbansal1600/opt/anaconda3/lib/python3.7/site-packages/sklearn/model_selection/_validation.py:536: FitFailedWarning: Estimator fit failed. The score on this train-test partition for these parameters will be set to nan. Details: \n",
      "ValueError: could not broadcast input array from shape (735,33) into shape (735,0)\n",
      "\n",
      "  FitFailedWarning)\n",
      "/Users/gauravbansal1600/opt/anaconda3/lib/python3.7/site-packages/sklearn/model_selection/_validation.py:536: FitFailedWarning: Estimator fit failed. The score on this train-test partition for these parameters will be set to nan. Details: \n",
      "ValueError: could not broadcast input array from shape (735,33) into shape (735,0)\n",
      "\n",
      "  FitFailedWarning)\n",
      "/Users/gauravbansal1600/opt/anaconda3/lib/python3.7/site-packages/sklearn/model_selection/_validation.py:536: FitFailedWarning: Estimator fit failed. The score on this train-test partition for these parameters will be set to nan. Details: \n",
      "ValueError: could not broadcast input array from shape (735,33) into shape (735,0)\n",
      "\n",
      "  FitFailedWarning)\n",
      "/Users/gauravbansal1600/opt/anaconda3/lib/python3.7/site-packages/sklearn/model_selection/_validation.py:536: FitFailedWarning: Estimator fit failed. The score on this train-test partition for these parameters will be set to nan. Details: \n",
      "ValueError: could not broadcast input array from shape (736,33) into shape (736,0)\n",
      "\n",
      "  FitFailedWarning)\n"
     ]
    },
    {
     "name": "stderr",
     "output_type": "stream",
     "text": [
      "/Users/gauravbansal1600/opt/anaconda3/lib/python3.7/site-packages/sklearn/model_selection/_validation.py:536: FitFailedWarning: Estimator fit failed. The score on this train-test partition for these parameters will be set to nan. Details: \n",
      "ValueError: could not broadcast input array from shape (735,33) into shape (735,0)\n",
      "\n",
      "  FitFailedWarning)\n",
      "/Users/gauravbansal1600/opt/anaconda3/lib/python3.7/site-packages/sklearn/model_selection/_validation.py:536: FitFailedWarning: Estimator fit failed. The score on this train-test partition for these parameters will be set to nan. Details: \n",
      "ValueError: could not broadcast input array from shape (735,33) into shape (735,0)\n",
      "\n",
      "  FitFailedWarning)\n",
      "/Users/gauravbansal1600/opt/anaconda3/lib/python3.7/site-packages/sklearn/model_selection/_validation.py:536: FitFailedWarning: Estimator fit failed. The score on this train-test partition for these parameters will be set to nan. Details: \n",
      "ValueError: could not broadcast input array from shape (735,33) into shape (735,0)\n",
      "\n",
      "  FitFailedWarning)\n",
      "/Users/gauravbansal1600/opt/anaconda3/lib/python3.7/site-packages/sklearn/model_selection/_validation.py:536: FitFailedWarning: Estimator fit failed. The score on this train-test partition for these parameters will be set to nan. Details: \n",
      "ValueError: could not broadcast input array from shape (735,33) into shape (735,0)\n",
      "\n",
      "  FitFailedWarning)\n",
      "/Users/gauravbansal1600/opt/anaconda3/lib/python3.7/site-packages/sklearn/model_selection/_validation.py:536: FitFailedWarning: Estimator fit failed. The score on this train-test partition for these parameters will be set to nan. Details: \n",
      "ValueError: could not broadcast input array from shape (736,33) into shape (736,0)\n",
      "\n",
      "  FitFailedWarning)\n",
      "/Users/gauravbansal1600/opt/anaconda3/lib/python3.7/site-packages/sklearn/model_selection/_validation.py:536: FitFailedWarning: Estimator fit failed. The score on this train-test partition for these parameters will be set to nan. Details: \n",
      "ValueError: could not broadcast input array from shape (735,33) into shape (735,0)\n",
      "\n",
      "  FitFailedWarning)\n",
      "/Users/gauravbansal1600/opt/anaconda3/lib/python3.7/site-packages/sklearn/model_selection/_validation.py:536: FitFailedWarning: Estimator fit failed. The score on this train-test partition for these parameters will be set to nan. Details: \n",
      "ValueError: could not broadcast input array from shape (735,33) into shape (735,0)\n",
      "\n",
      "  FitFailedWarning)\n",
      "/Users/gauravbansal1600/opt/anaconda3/lib/python3.7/site-packages/sklearn/model_selection/_validation.py:536: FitFailedWarning: Estimator fit failed. The score on this train-test partition for these parameters will be set to nan. Details: \n",
      "ValueError: could not broadcast input array from shape (735,33) into shape (735,0)\n",
      "\n",
      "  FitFailedWarning)\n",
      "/Users/gauravbansal1600/opt/anaconda3/lib/python3.7/site-packages/sklearn/model_selection/_validation.py:536: FitFailedWarning: Estimator fit failed. The score on this train-test partition for these parameters will be set to nan. Details: \n",
      "ValueError: could not broadcast input array from shape (735,33) into shape (735,0)\n",
      "\n",
      "  FitFailedWarning)\n",
      "/Users/gauravbansal1600/opt/anaconda3/lib/python3.7/site-packages/sklearn/model_selection/_validation.py:536: FitFailedWarning: Estimator fit failed. The score on this train-test partition for these parameters will be set to nan. Details: \n",
      "ValueError: could not broadcast input array from shape (736,33) into shape (736,0)\n",
      "\n",
      "  FitFailedWarning)\n",
      "/Users/gauravbansal1600/opt/anaconda3/lib/python3.7/site-packages/sklearn/model_selection/_validation.py:536: FitFailedWarning: Estimator fit failed. The score on this train-test partition for these parameters will be set to nan. Details: \n",
      "ValueError: could not broadcast input array from shape (735,33) into shape (735,0)\n",
      "\n",
      "  FitFailedWarning)\n",
      "/Users/gauravbansal1600/opt/anaconda3/lib/python3.7/site-packages/sklearn/model_selection/_validation.py:536: FitFailedWarning: Estimator fit failed. The score on this train-test partition for these parameters will be set to nan. Details: \n",
      "ValueError: could not broadcast input array from shape (735,33) into shape (735,0)\n",
      "\n",
      "  FitFailedWarning)\n",
      "/Users/gauravbansal1600/opt/anaconda3/lib/python3.7/site-packages/sklearn/model_selection/_validation.py:536: FitFailedWarning: Estimator fit failed. The score on this train-test partition for these parameters will be set to nan. Details: \n",
      "ValueError: could not broadcast input array from shape (735,33) into shape (735,0)\n",
      "\n",
      "  FitFailedWarning)\n",
      "/Users/gauravbansal1600/opt/anaconda3/lib/python3.7/site-packages/sklearn/model_selection/_validation.py:536: FitFailedWarning: Estimator fit failed. The score on this train-test partition for these parameters will be set to nan. Details: \n",
      "ValueError: could not broadcast input array from shape (735,33) into shape (735,0)\n",
      "\n",
      "  FitFailedWarning)\n",
      "/Users/gauravbansal1600/opt/anaconda3/lib/python3.7/site-packages/sklearn/model_selection/_validation.py:536: FitFailedWarning: Estimator fit failed. The score on this train-test partition for these parameters will be set to nan. Details: \n",
      "ValueError: could not broadcast input array from shape (736,33) into shape (736,0)\n",
      "\n",
      "  FitFailedWarning)\n",
      "/Users/gauravbansal1600/opt/anaconda3/lib/python3.7/site-packages/sklearn/model_selection/_validation.py:536: FitFailedWarning: Estimator fit failed. The score on this train-test partition for these parameters will be set to nan. Details: \n",
      "ValueError: could not broadcast input array from shape (735,33) into shape (735,0)\n",
      "\n",
      "  FitFailedWarning)\n",
      "/Users/gauravbansal1600/opt/anaconda3/lib/python3.7/site-packages/sklearn/model_selection/_validation.py:536: FitFailedWarning: Estimator fit failed. The score on this train-test partition for these parameters will be set to nan. Details: \n",
      "ValueError: could not broadcast input array from shape (735,33) into shape (735,0)\n",
      "\n",
      "  FitFailedWarning)\n",
      "/Users/gauravbansal1600/opt/anaconda3/lib/python3.7/site-packages/sklearn/model_selection/_validation.py:536: FitFailedWarning: Estimator fit failed. The score on this train-test partition for these parameters will be set to nan. Details: \n",
      "ValueError: could not broadcast input array from shape (735,33) into shape (735,0)\n",
      "\n",
      "  FitFailedWarning)\n",
      "/Users/gauravbansal1600/opt/anaconda3/lib/python3.7/site-packages/sklearn/model_selection/_validation.py:536: FitFailedWarning: Estimator fit failed. The score on this train-test partition for these parameters will be set to nan. Details: \n",
      "ValueError: could not broadcast input array from shape (735,33) into shape (735,0)\n",
      "\n",
      "  FitFailedWarning)\n",
      "/Users/gauravbansal1600/opt/anaconda3/lib/python3.7/site-packages/sklearn/model_selection/_validation.py:536: FitFailedWarning: Estimator fit failed. The score on this train-test partition for these parameters will be set to nan. Details: \n",
      "ValueError: could not broadcast input array from shape (736,33) into shape (736,0)\n",
      "\n",
      "  FitFailedWarning)\n",
      "/Users/gauravbansal1600/opt/anaconda3/lib/python3.7/site-packages/sklearn/model_selection/_validation.py:536: FitFailedWarning: Estimator fit failed. The score on this train-test partition for these parameters will be set to nan. Details: \n",
      "ValueError: could not broadcast input array from shape (735,33) into shape (735,0)\n",
      "\n",
      "  FitFailedWarning)\n",
      "/Users/gauravbansal1600/opt/anaconda3/lib/python3.7/site-packages/sklearn/model_selection/_validation.py:536: FitFailedWarning: Estimator fit failed. The score on this train-test partition for these parameters will be set to nan. Details: \n",
      "ValueError: could not broadcast input array from shape (735,33) into shape (735,0)\n",
      "\n",
      "  FitFailedWarning)\n",
      "/Users/gauravbansal1600/opt/anaconda3/lib/python3.7/site-packages/sklearn/model_selection/_validation.py:536: FitFailedWarning: Estimator fit failed. The score on this train-test partition for these parameters will be set to nan. Details: \n",
      "ValueError: could not broadcast input array from shape (735,33) into shape (735,0)\n",
      "\n",
      "  FitFailedWarning)\n",
      "/Users/gauravbansal1600/opt/anaconda3/lib/python3.7/site-packages/sklearn/model_selection/_validation.py:536: FitFailedWarning: Estimator fit failed. The score on this train-test partition for these parameters will be set to nan. Details: \n",
      "ValueError: could not broadcast input array from shape (735,33) into shape (735,0)\n",
      "\n",
      "  FitFailedWarning)\n",
      "/Users/gauravbansal1600/opt/anaconda3/lib/python3.7/site-packages/sklearn/model_selection/_validation.py:536: FitFailedWarning: Estimator fit failed. The score on this train-test partition for these parameters will be set to nan. Details: \n",
      "ValueError: could not broadcast input array from shape (736,33) into shape (736,0)\n",
      "\n",
      "  FitFailedWarning)\n"
     ]
    },
    {
     "name": "stderr",
     "output_type": "stream",
     "text": [
      "/Users/gauravbansal1600/opt/anaconda3/lib/python3.7/site-packages/sklearn/model_selection/_validation.py:536: FitFailedWarning: Estimator fit failed. The score on this train-test partition for these parameters will be set to nan. Details: \n",
      "ValueError: could not broadcast input array from shape (184,33) into shape (184,0)\n",
      "\n",
      "  FitFailedWarning)\n",
      "/Users/gauravbansal1600/opt/anaconda3/lib/python3.7/site-packages/sklearn/model_selection/_validation.py:536: FitFailedWarning: Estimator fit failed. The score on this train-test partition for these parameters will be set to nan. Details: \n",
      "ValueError: could not broadcast input array from shape (184,33) into shape (184,0)\n",
      "\n",
      "  FitFailedWarning)\n",
      "/Users/gauravbansal1600/opt/anaconda3/lib/python3.7/site-packages/sklearn/model_selection/_validation.py:536: FitFailedWarning: Estimator fit failed. The score on this train-test partition for these parameters will be set to nan. Details: \n",
      "ValueError: could not broadcast input array from shape (184,33) into shape (184,0)\n",
      "\n",
      "  FitFailedWarning)\n",
      "/Users/gauravbansal1600/opt/anaconda3/lib/python3.7/site-packages/sklearn/model_selection/_validation.py:536: FitFailedWarning: Estimator fit failed. The score on this train-test partition for these parameters will be set to nan. Details: \n",
      "ValueError: could not broadcast input array from shape (184,33) into shape (184,0)\n",
      "\n",
      "  FitFailedWarning)\n",
      "/Users/gauravbansal1600/opt/anaconda3/lib/python3.7/site-packages/sklearn/model_selection/_validation.py:536: FitFailedWarning: Estimator fit failed. The score on this train-test partition for these parameters will be set to nan. Details: \n",
      "ValueError: could not broadcast input array from shape (184,33) into shape (184,0)\n",
      "\n",
      "  FitFailedWarning)\n",
      "/Users/gauravbansal1600/opt/anaconda3/lib/python3.7/site-packages/sklearn/model_selection/_validation.py:536: FitFailedWarning: Estimator fit failed. The score on this train-test partition for these parameters will be set to nan. Details: \n",
      "ValueError: could not broadcast input array from shape (184,33) into shape (184,0)\n",
      "\n",
      "  FitFailedWarning)\n",
      "/Users/gauravbansal1600/opt/anaconda3/lib/python3.7/site-packages/sklearn/model_selection/_validation.py:536: FitFailedWarning: Estimator fit failed. The score on this train-test partition for these parameters will be set to nan. Details: \n",
      "ValueError: could not broadcast input array from shape (184,33) into shape (184,0)\n",
      "\n",
      "  FitFailedWarning)\n",
      "/Users/gauravbansal1600/opt/anaconda3/lib/python3.7/site-packages/sklearn/model_selection/_validation.py:536: FitFailedWarning: Estimator fit failed. The score on this train-test partition for these parameters will be set to nan. Details: \n",
      "ValueError: could not broadcast input array from shape (184,33) into shape (184,0)\n",
      "\n",
      "  FitFailedWarning)\n",
      "/Users/gauravbansal1600/opt/anaconda3/lib/python3.7/site-packages/sklearn/model_selection/_validation.py:536: FitFailedWarning: Estimator fit failed. The score on this train-test partition for these parameters will be set to nan. Details: \n",
      "ValueError: could not broadcast input array from shape (184,33) into shape (184,0)\n",
      "\n",
      "  FitFailedWarning)\n",
      "/Users/gauravbansal1600/opt/anaconda3/lib/python3.7/site-packages/sklearn/model_selection/_validation.py:536: FitFailedWarning: Estimator fit failed. The score on this train-test partition for these parameters will be set to nan. Details: \n",
      "ValueError: could not broadcast input array from shape (184,33) into shape (184,0)\n",
      "\n",
      "  FitFailedWarning)\n",
      "/Users/gauravbansal1600/opt/anaconda3/lib/python3.7/site-packages/sklearn/model_selection/_validation.py:536: FitFailedWarning: Estimator fit failed. The score on this train-test partition for these parameters will be set to nan. Details: \n",
      "ValueError: could not broadcast input array from shape (184,33) into shape (184,0)\n",
      "\n",
      "  FitFailedWarning)\n",
      "/Users/gauravbansal1600/opt/anaconda3/lib/python3.7/site-packages/sklearn/model_selection/_validation.py:536: FitFailedWarning: Estimator fit failed. The score on this train-test partition for these parameters will be set to nan. Details: \n",
      "ValueError: could not broadcast input array from shape (184,33) into shape (184,0)\n",
      "\n",
      "  FitFailedWarning)\n",
      "/Users/gauravbansal1600/opt/anaconda3/lib/python3.7/site-packages/sklearn/model_selection/_validation.py:536: FitFailedWarning: Estimator fit failed. The score on this train-test partition for these parameters will be set to nan. Details: \n",
      "ValueError: could not broadcast input array from shape (184,33) into shape (184,0)\n",
      "\n",
      "  FitFailedWarning)\n",
      "/Users/gauravbansal1600/opt/anaconda3/lib/python3.7/site-packages/sklearn/model_selection/_validation.py:536: FitFailedWarning: Estimator fit failed. The score on this train-test partition for these parameters will be set to nan. Details: \n",
      "ValueError: could not broadcast input array from shape (184,33) into shape (184,0)\n",
      "\n",
      "  FitFailedWarning)\n",
      "/Users/gauravbansal1600/opt/anaconda3/lib/python3.7/site-packages/sklearn/model_selection/_validation.py:536: FitFailedWarning: Estimator fit failed. The score on this train-test partition for these parameters will be set to nan. Details: \n",
      "ValueError: could not broadcast input array from shape (184,33) into shape (184,0)\n",
      "\n",
      "  FitFailedWarning)\n",
      "/Users/gauravbansal1600/opt/anaconda3/lib/python3.7/site-packages/sklearn/model_selection/_validation.py:536: FitFailedWarning: Estimator fit failed. The score on this train-test partition for these parameters will be set to nan. Details: \n",
      "ValueError: could not broadcast input array from shape (184,33) into shape (184,0)\n",
      "\n",
      "  FitFailedWarning)\n",
      "/Users/gauravbansal1600/opt/anaconda3/lib/python3.7/site-packages/sklearn/model_selection/_validation.py:536: FitFailedWarning: Estimator fit failed. The score on this train-test partition for these parameters will be set to nan. Details: \n",
      "ValueError: could not broadcast input array from shape (184,33) into shape (184,0)\n",
      "\n",
      "  FitFailedWarning)\n",
      "/Users/gauravbansal1600/opt/anaconda3/lib/python3.7/site-packages/sklearn/model_selection/_validation.py:536: FitFailedWarning: Estimator fit failed. The score on this train-test partition for these parameters will be set to nan. Details: \n",
      "ValueError: could not broadcast input array from shape (184,33) into shape (184,0)\n",
      "\n",
      "  FitFailedWarning)\n",
      "/Users/gauravbansal1600/opt/anaconda3/lib/python3.7/site-packages/sklearn/model_selection/_validation.py:536: FitFailedWarning: Estimator fit failed. The score on this train-test partition for these parameters will be set to nan. Details: \n",
      "ValueError: could not broadcast input array from shape (184,33) into shape (184,0)\n",
      "\n",
      "  FitFailedWarning)\n",
      "/Users/gauravbansal1600/opt/anaconda3/lib/python3.7/site-packages/sklearn/model_selection/_validation.py:536: FitFailedWarning: Estimator fit failed. The score on this train-test partition for these parameters will be set to nan. Details: \n",
      "ValueError: could not broadcast input array from shape (184,33) into shape (184,0)\n",
      "\n",
      "  FitFailedWarning)\n",
      "/Users/gauravbansal1600/opt/anaconda3/lib/python3.7/site-packages/sklearn/model_selection/_validation.py:536: FitFailedWarning: Estimator fit failed. The score on this train-test partition for these parameters will be set to nan. Details: \n",
      "ValueError: could not broadcast input array from shape (184,33) into shape (184,0)\n",
      "\n",
      "  FitFailedWarning)\n",
      "/Users/gauravbansal1600/opt/anaconda3/lib/python3.7/site-packages/sklearn/model_selection/_validation.py:536: FitFailedWarning: Estimator fit failed. The score on this train-test partition for these parameters will be set to nan. Details: \n",
      "ValueError: could not broadcast input array from shape (184,33) into shape (184,0)\n",
      "\n",
      "  FitFailedWarning)\n",
      "/Users/gauravbansal1600/opt/anaconda3/lib/python3.7/site-packages/sklearn/model_selection/_validation.py:536: FitFailedWarning: Estimator fit failed. The score on this train-test partition for these parameters will be set to nan. Details: \n",
      "ValueError: could not broadcast input array from shape (184,33) into shape (184,0)\n",
      "\n",
      "  FitFailedWarning)\n",
      "/Users/gauravbansal1600/opt/anaconda3/lib/python3.7/site-packages/sklearn/model_selection/_validation.py:536: FitFailedWarning: Estimator fit failed. The score on this train-test partition for these parameters will be set to nan. Details: \n",
      "ValueError: could not broadcast input array from shape (184,33) into shape (184,0)\n",
      "\n",
      "  FitFailedWarning)\n",
      "/Users/gauravbansal1600/opt/anaconda3/lib/python3.7/site-packages/sklearn/model_selection/_validation.py:536: FitFailedWarning: Estimator fit failed. The score on this train-test partition for these parameters will be set to nan. Details: \n",
      "ValueError: could not broadcast input array from shape (184,33) into shape (184,0)\n",
      "\n",
      "  FitFailedWarning)\n"
     ]
    },
    {
     "name": "stderr",
     "output_type": "stream",
     "text": [
      "/Users/gauravbansal1600/opt/anaconda3/lib/python3.7/site-packages/sklearn/model_selection/_validation.py:536: FitFailedWarning: Estimator fit failed. The score on this train-test partition for these parameters will be set to nan. Details: \n",
      "ValueError: could not broadcast input array from shape (184,33) into shape (184,0)\n",
      "\n",
      "  FitFailedWarning)\n",
      "/Users/gauravbansal1600/opt/anaconda3/lib/python3.7/site-packages/sklearn/model_selection/_validation.py:536: FitFailedWarning: Estimator fit failed. The score on this train-test partition for these parameters will be set to nan. Details: \n",
      "ValueError: could not broadcast input array from shape (184,33) into shape (184,0)\n",
      "\n",
      "  FitFailedWarning)\n",
      "/Users/gauravbansal1600/opt/anaconda3/lib/python3.7/site-packages/sklearn/model_selection/_validation.py:536: FitFailedWarning: Estimator fit failed. The score on this train-test partition for these parameters will be set to nan. Details: \n",
      "ValueError: could not broadcast input array from shape (184,33) into shape (184,0)\n",
      "\n",
      "  FitFailedWarning)\n",
      "/Users/gauravbansal1600/opt/anaconda3/lib/python3.7/site-packages/sklearn/model_selection/_validation.py:536: FitFailedWarning: Estimator fit failed. The score on this train-test partition for these parameters will be set to nan. Details: \n",
      "ValueError: could not broadcast input array from shape (184,33) into shape (184,0)\n",
      "\n",
      "  FitFailedWarning)\n",
      "/Users/gauravbansal1600/opt/anaconda3/lib/python3.7/site-packages/sklearn/model_selection/_validation.py:536: FitFailedWarning: Estimator fit failed. The score on this train-test partition for these parameters will be set to nan. Details: \n",
      "ValueError: could not broadcast input array from shape (184,33) into shape (184,0)\n",
      "\n",
      "  FitFailedWarning)\n",
      "/Users/gauravbansal1600/opt/anaconda3/lib/python3.7/site-packages/sklearn/model_selection/_validation.py:536: FitFailedWarning: Estimator fit failed. The score on this train-test partition for these parameters will be set to nan. Details: \n",
      "ValueError: could not broadcast input array from shape (184,33) into shape (184,0)\n",
      "\n",
      "  FitFailedWarning)\n",
      "/Users/gauravbansal1600/opt/anaconda3/lib/python3.7/site-packages/sklearn/model_selection/_validation.py:536: FitFailedWarning: Estimator fit failed. The score on this train-test partition for these parameters will be set to nan. Details: \n",
      "ValueError: could not broadcast input array from shape (184,33) into shape (184,0)\n",
      "\n",
      "  FitFailedWarning)\n",
      "/Users/gauravbansal1600/opt/anaconda3/lib/python3.7/site-packages/sklearn/model_selection/_validation.py:536: FitFailedWarning: Estimator fit failed. The score on this train-test partition for these parameters will be set to nan. Details: \n",
      "ValueError: could not broadcast input array from shape (184,33) into shape (184,0)\n",
      "\n",
      "  FitFailedWarning)\n",
      "/Users/gauravbansal1600/opt/anaconda3/lib/python3.7/site-packages/sklearn/model_selection/_validation.py:536: FitFailedWarning: Estimator fit failed. The score on this train-test partition for these parameters will be set to nan. Details: \n",
      "ValueError: could not broadcast input array from shape (184,33) into shape (184,0)\n",
      "\n",
      "  FitFailedWarning)\n",
      "/Users/gauravbansal1600/opt/anaconda3/lib/python3.7/site-packages/sklearn/model_selection/_validation.py:536: FitFailedWarning: Estimator fit failed. The score on this train-test partition for these parameters will be set to nan. Details: \n",
      "ValueError: could not broadcast input array from shape (184,33) into shape (184,0)\n",
      "\n",
      "  FitFailedWarning)\n",
      "/Users/gauravbansal1600/opt/anaconda3/lib/python3.7/site-packages/sklearn/model_selection/_validation.py:536: FitFailedWarning: Estimator fit failed. The score on this train-test partition for these parameters will be set to nan. Details: \n",
      "ValueError: could not broadcast input array from shape (184,33) into shape (184,0)\n",
      "\n",
      "  FitFailedWarning)\n",
      "/Users/gauravbansal1600/opt/anaconda3/lib/python3.7/site-packages/sklearn/model_selection/_validation.py:536: FitFailedWarning: Estimator fit failed. The score on this train-test partition for these parameters will be set to nan. Details: \n",
      "ValueError: could not broadcast input array from shape (184,33) into shape (184,0)\n",
      "\n",
      "  FitFailedWarning)\n",
      "/Users/gauravbansal1600/opt/anaconda3/lib/python3.7/site-packages/sklearn/model_selection/_validation.py:536: FitFailedWarning: Estimator fit failed. The score on this train-test partition for these parameters will be set to nan. Details: \n",
      "ValueError: could not broadcast input array from shape (184,33) into shape (184,0)\n",
      "\n",
      "  FitFailedWarning)\n",
      "/Users/gauravbansal1600/opt/anaconda3/lib/python3.7/site-packages/sklearn/model_selection/_validation.py:536: FitFailedWarning: Estimator fit failed. The score on this train-test partition for these parameters will be set to nan. Details: \n",
      "ValueError: could not broadcast input array from shape (184,33) into shape (184,0)\n",
      "\n",
      "  FitFailedWarning)\n",
      "/Users/gauravbansal1600/opt/anaconda3/lib/python3.7/site-packages/sklearn/model_selection/_validation.py:536: FitFailedWarning: Estimator fit failed. The score on this train-test partition for these parameters will be set to nan. Details: \n",
      "ValueError: could not broadcast input array from shape (184,33) into shape (184,0)\n",
      "\n",
      "  FitFailedWarning)\n",
      "/Users/gauravbansal1600/opt/anaconda3/lib/python3.7/site-packages/sklearn/model_selection/_validation.py:536: FitFailedWarning: Estimator fit failed. The score on this train-test partition for these parameters will be set to nan. Details: \n",
      "ValueError: could not broadcast input array from shape (184,33) into shape (184,0)\n",
      "\n",
      "  FitFailedWarning)\n",
      "/Users/gauravbansal1600/opt/anaconda3/lib/python3.7/site-packages/sklearn/model_selection/_validation.py:536: FitFailedWarning: Estimator fit failed. The score on this train-test partition for these parameters will be set to nan. Details: \n",
      "ValueError: could not broadcast input array from shape (184,33) into shape (184,0)\n",
      "\n",
      "  FitFailedWarning)\n",
      "/Users/gauravbansal1600/opt/anaconda3/lib/python3.7/site-packages/sklearn/model_selection/_validation.py:536: FitFailedWarning: Estimator fit failed. The score on this train-test partition for these parameters will be set to nan. Details: \n",
      "ValueError: could not broadcast input array from shape (184,33) into shape (184,0)\n",
      "\n",
      "  FitFailedWarning)\n",
      "/Users/gauravbansal1600/opt/anaconda3/lib/python3.7/site-packages/sklearn/model_selection/_validation.py:536: FitFailedWarning: Estimator fit failed. The score on this train-test partition for these parameters will be set to nan. Details: \n",
      "ValueError: could not broadcast input array from shape (184,33) into shape (184,0)\n",
      "\n",
      "  FitFailedWarning)\n",
      "/Users/gauravbansal1600/opt/anaconda3/lib/python3.7/site-packages/sklearn/model_selection/_validation.py:536: FitFailedWarning: Estimator fit failed. The score on this train-test partition for these parameters will be set to nan. Details: \n",
      "ValueError: could not broadcast input array from shape (184,33) into shape (184,0)\n",
      "\n",
      "  FitFailedWarning)\n",
      "/Users/gauravbansal1600/opt/anaconda3/lib/python3.7/site-packages/sklearn/model_selection/_validation.py:536: FitFailedWarning: Estimator fit failed. The score on this train-test partition for these parameters will be set to nan. Details: \n",
      "ValueError: could not broadcast input array from shape (184,33) into shape (184,0)\n",
      "\n",
      "  FitFailedWarning)\n",
      "/Users/gauravbansal1600/opt/anaconda3/lib/python3.7/site-packages/sklearn/model_selection/_validation.py:536: FitFailedWarning: Estimator fit failed. The score on this train-test partition for these parameters will be set to nan. Details: \n",
      "ValueError: could not broadcast input array from shape (184,33) into shape (184,0)\n",
      "\n",
      "  FitFailedWarning)\n",
      "/Users/gauravbansal1600/opt/anaconda3/lib/python3.7/site-packages/sklearn/model_selection/_validation.py:536: FitFailedWarning: Estimator fit failed. The score on this train-test partition for these parameters will be set to nan. Details: \n",
      "ValueError: could not broadcast input array from shape (184,33) into shape (184,0)\n",
      "\n",
      "  FitFailedWarning)\n",
      "/Users/gauravbansal1600/opt/anaconda3/lib/python3.7/site-packages/sklearn/model_selection/_validation.py:536: FitFailedWarning: Estimator fit failed. The score on this train-test partition for these parameters will be set to nan. Details: \n",
      "ValueError: could not broadcast input array from shape (184,33) into shape (184,0)\n",
      "\n",
      "  FitFailedWarning)\n",
      "/Users/gauravbansal1600/opt/anaconda3/lib/python3.7/site-packages/sklearn/model_selection/_validation.py:536: FitFailedWarning: Estimator fit failed. The score on this train-test partition for these parameters will be set to nan. Details: \n",
      "ValueError: could not broadcast input array from shape (184,33) into shape (184,0)\n",
      "\n",
      "  FitFailedWarning)\n"
     ]
    },
    {
     "name": "stderr",
     "output_type": "stream",
     "text": [
      "/Users/gauravbansal1600/opt/anaconda3/lib/python3.7/site-packages/sklearn/model_selection/_validation.py:536: FitFailedWarning: Estimator fit failed. The score on this train-test partition for these parameters will be set to nan. Details: \n",
      "ValueError: could not broadcast input array from shape (184,33) into shape (184,0)\n",
      "\n",
      "  FitFailedWarning)\n",
      "/Users/gauravbansal1600/opt/anaconda3/lib/python3.7/site-packages/sklearn/model_selection/_validation.py:536: FitFailedWarning: Estimator fit failed. The score on this train-test partition for these parameters will be set to nan. Details: \n",
      "ValueError: could not broadcast input array from shape (184,33) into shape (184,0)\n",
      "\n",
      "  FitFailedWarning)\n",
      "/Users/gauravbansal1600/opt/anaconda3/lib/python3.7/site-packages/sklearn/model_selection/_validation.py:536: FitFailedWarning: Estimator fit failed. The score on this train-test partition for these parameters will be set to nan. Details: \n",
      "ValueError: could not broadcast input array from shape (184,33) into shape (184,0)\n",
      "\n",
      "  FitFailedWarning)\n",
      "/Users/gauravbansal1600/opt/anaconda3/lib/python3.7/site-packages/sklearn/model_selection/_validation.py:536: FitFailedWarning: Estimator fit failed. The score on this train-test partition for these parameters will be set to nan. Details: \n",
      "ValueError: could not broadcast input array from shape (184,33) into shape (184,0)\n",
      "\n",
      "  FitFailedWarning)\n",
      "/Users/gauravbansal1600/opt/anaconda3/lib/python3.7/site-packages/sklearn/model_selection/_validation.py:536: FitFailedWarning: Estimator fit failed. The score on this train-test partition for these parameters will be set to nan. Details: \n",
      "ValueError: could not broadcast input array from shape (184,33) into shape (184,0)\n",
      "\n",
      "  FitFailedWarning)\n",
      "/Users/gauravbansal1600/opt/anaconda3/lib/python3.7/site-packages/sklearn/model_selection/_validation.py:536: FitFailedWarning: Estimator fit failed. The score on this train-test partition for these parameters will be set to nan. Details: \n",
      "ValueError: could not broadcast input array from shape (184,33) into shape (184,0)\n",
      "\n",
      "  FitFailedWarning)\n",
      "/Users/gauravbansal1600/opt/anaconda3/lib/python3.7/site-packages/sklearn/model_selection/_validation.py:536: FitFailedWarning: Estimator fit failed. The score on this train-test partition for these parameters will be set to nan. Details: \n",
      "ValueError: could not broadcast input array from shape (184,33) into shape (184,0)\n",
      "\n",
      "  FitFailedWarning)\n",
      "/Users/gauravbansal1600/opt/anaconda3/lib/python3.7/site-packages/sklearn/model_selection/_validation.py:536: FitFailedWarning: Estimator fit failed. The score on this train-test partition for these parameters will be set to nan. Details: \n",
      "ValueError: could not broadcast input array from shape (184,33) into shape (184,0)\n",
      "\n",
      "  FitFailedWarning)\n",
      "/Users/gauravbansal1600/opt/anaconda3/lib/python3.7/site-packages/sklearn/model_selection/_validation.py:536: FitFailedWarning: Estimator fit failed. The score on this train-test partition for these parameters will be set to nan. Details: \n",
      "ValueError: could not broadcast input array from shape (184,33) into shape (184,0)\n",
      "\n",
      "  FitFailedWarning)\n",
      "/Users/gauravbansal1600/opt/anaconda3/lib/python3.7/site-packages/sklearn/model_selection/_validation.py:536: FitFailedWarning: Estimator fit failed. The score on this train-test partition for these parameters will be set to nan. Details: \n",
      "ValueError: could not broadcast input array from shape (184,33) into shape (184,0)\n",
      "\n",
      "  FitFailedWarning)\n",
      "/Users/gauravbansal1600/opt/anaconda3/lib/python3.7/site-packages/sklearn/model_selection/_validation.py:536: FitFailedWarning: Estimator fit failed. The score on this train-test partition for these parameters will be set to nan. Details: \n",
      "ValueError: could not broadcast input array from shape (184,33) into shape (184,0)\n",
      "\n",
      "  FitFailedWarning)\n",
      "/Users/gauravbansal1600/opt/anaconda3/lib/python3.7/site-packages/sklearn/model_selection/_validation.py:536: FitFailedWarning: Estimator fit failed. The score on this train-test partition for these parameters will be set to nan. Details: \n",
      "ValueError: could not broadcast input array from shape (185,33) into shape (185,0)\n",
      "\n",
      "  FitFailedWarning)\n",
      "/Users/gauravbansal1600/opt/anaconda3/lib/python3.7/site-packages/sklearn/model_selection/_validation.py:536: FitFailedWarning: Estimator fit failed. The score on this train-test partition for these parameters will be set to nan. Details: \n",
      "ValueError: could not broadcast input array from shape (185,33) into shape (185,0)\n",
      "\n",
      "  FitFailedWarning)\n",
      "/Users/gauravbansal1600/opt/anaconda3/lib/python3.7/site-packages/sklearn/model_selection/_validation.py:536: FitFailedWarning: Estimator fit failed. The score on this train-test partition for these parameters will be set to nan. Details: \n",
      "ValueError: could not broadcast input array from shape (185,33) into shape (185,0)\n",
      "\n",
      "  FitFailedWarning)\n",
      "/Users/gauravbansal1600/opt/anaconda3/lib/python3.7/site-packages/sklearn/model_selection/_validation.py:536: FitFailedWarning: Estimator fit failed. The score on this train-test partition for these parameters will be set to nan. Details: \n",
      "ValueError: could not broadcast input array from shape (185,33) into shape (185,0)\n",
      "\n",
      "  FitFailedWarning)\n",
      "/Users/gauravbansal1600/opt/anaconda3/lib/python3.7/site-packages/sklearn/model_selection/_validation.py:536: FitFailedWarning: Estimator fit failed. The score on this train-test partition for these parameters will be set to nan. Details: \n",
      "ValueError: could not broadcast input array from shape (184,33) into shape (184,0)\n",
      "\n",
      "  FitFailedWarning)\n",
      "/Users/gauravbansal1600/opt/anaconda3/lib/python3.7/site-packages/sklearn/model_selection/_validation.py:536: FitFailedWarning: Estimator fit failed. The score on this train-test partition for these parameters will be set to nan. Details: \n",
      "ValueError: could not broadcast input array from shape (185,33) into shape (185,0)\n",
      "\n",
      "  FitFailedWarning)\n",
      "/Users/gauravbansal1600/opt/anaconda3/lib/python3.7/site-packages/sklearn/model_selection/_validation.py:536: FitFailedWarning: Estimator fit failed. The score on this train-test partition for these parameters will be set to nan. Details: \n",
      "ValueError: could not broadcast input array from shape (185,33) into shape (185,0)\n",
      "\n",
      "  FitFailedWarning)\n",
      "/Users/gauravbansal1600/opt/anaconda3/lib/python3.7/site-packages/sklearn/model_selection/_validation.py:536: FitFailedWarning: Estimator fit failed. The score on this train-test partition for these parameters will be set to nan. Details: \n",
      "ValueError: could not broadcast input array from shape (185,33) into shape (185,0)\n",
      "\n",
      "  FitFailedWarning)\n",
      "/Users/gauravbansal1600/opt/anaconda3/lib/python3.7/site-packages/sklearn/model_selection/_validation.py:536: FitFailedWarning: Estimator fit failed. The score on this train-test partition for these parameters will be set to nan. Details: \n",
      "ValueError: could not broadcast input array from shape (185,33) into shape (185,0)\n",
      "\n",
      "  FitFailedWarning)\n",
      "/Users/gauravbansal1600/opt/anaconda3/lib/python3.7/site-packages/sklearn/model_selection/_validation.py:536: FitFailedWarning: Estimator fit failed. The score on this train-test partition for these parameters will be set to nan. Details: \n",
      "ValueError: could not broadcast input array from shape (184,33) into shape (184,0)\n",
      "\n",
      "  FitFailedWarning)\n",
      "/Users/gauravbansal1600/opt/anaconda3/lib/python3.7/site-packages/sklearn/model_selection/_validation.py:536: FitFailedWarning: Estimator fit failed. The score on this train-test partition for these parameters will be set to nan. Details: \n",
      "ValueError: could not broadcast input array from shape (185,33) into shape (185,0)\n",
      "\n",
      "  FitFailedWarning)\n",
      "/Users/gauravbansal1600/opt/anaconda3/lib/python3.7/site-packages/sklearn/model_selection/_validation.py:536: FitFailedWarning: Estimator fit failed. The score on this train-test partition for these parameters will be set to nan. Details: \n",
      "ValueError: could not broadcast input array from shape (185,33) into shape (185,0)\n",
      "\n",
      "  FitFailedWarning)\n",
      "/Users/gauravbansal1600/opt/anaconda3/lib/python3.7/site-packages/sklearn/model_selection/_validation.py:536: FitFailedWarning: Estimator fit failed. The score on this train-test partition for these parameters will be set to nan. Details: \n",
      "ValueError: could not broadcast input array from shape (185,33) into shape (185,0)\n",
      "\n",
      "  FitFailedWarning)\n",
      "/Users/gauravbansal1600/opt/anaconda3/lib/python3.7/site-packages/sklearn/model_selection/_validation.py:536: FitFailedWarning: Estimator fit failed. The score on this train-test partition for these parameters will be set to nan. Details: \n",
      "ValueError: could not broadcast input array from shape (185,33) into shape (185,0)\n",
      "\n",
      "  FitFailedWarning)\n"
     ]
    },
    {
     "name": "stderr",
     "output_type": "stream",
     "text": [
      "/Users/gauravbansal1600/opt/anaconda3/lib/python3.7/site-packages/sklearn/model_selection/_validation.py:536: FitFailedWarning: Estimator fit failed. The score on this train-test partition for these parameters will be set to nan. Details: \n",
      "ValueError: could not broadcast input array from shape (184,33) into shape (184,0)\n",
      "\n",
      "  FitFailedWarning)\n",
      "/Users/gauravbansal1600/opt/anaconda3/lib/python3.7/site-packages/sklearn/model_selection/_validation.py:536: FitFailedWarning: Estimator fit failed. The score on this train-test partition for these parameters will be set to nan. Details: \n",
      "ValueError: could not broadcast input array from shape (185,33) into shape (185,0)\n",
      "\n",
      "  FitFailedWarning)\n",
      "/Users/gauravbansal1600/opt/anaconda3/lib/python3.7/site-packages/sklearn/model_selection/_validation.py:536: FitFailedWarning: Estimator fit failed. The score on this train-test partition for these parameters will be set to nan. Details: \n",
      "ValueError: could not broadcast input array from shape (185,33) into shape (185,0)\n",
      "\n",
      "  FitFailedWarning)\n",
      "/Users/gauravbansal1600/opt/anaconda3/lib/python3.7/site-packages/sklearn/model_selection/_validation.py:536: FitFailedWarning: Estimator fit failed. The score on this train-test partition for these parameters will be set to nan. Details: \n",
      "ValueError: could not broadcast input array from shape (185,33) into shape (185,0)\n",
      "\n",
      "  FitFailedWarning)\n",
      "/Users/gauravbansal1600/opt/anaconda3/lib/python3.7/site-packages/sklearn/model_selection/_validation.py:536: FitFailedWarning: Estimator fit failed. The score on this train-test partition for these parameters will be set to nan. Details: \n",
      "ValueError: could not broadcast input array from shape (185,33) into shape (185,0)\n",
      "\n",
      "  FitFailedWarning)\n",
      "/Users/gauravbansal1600/opt/anaconda3/lib/python3.7/site-packages/sklearn/model_selection/_validation.py:536: FitFailedWarning: Estimator fit failed. The score on this train-test partition for these parameters will be set to nan. Details: \n",
      "ValueError: could not broadcast input array from shape (184,33) into shape (184,0)\n",
      "\n",
      "  FitFailedWarning)\n",
      "/Users/gauravbansal1600/opt/anaconda3/lib/python3.7/site-packages/sklearn/model_selection/_validation.py:536: FitFailedWarning: Estimator fit failed. The score on this train-test partition for these parameters will be set to nan. Details: \n",
      "ValueError: could not broadcast input array from shape (185,33) into shape (185,0)\n",
      "\n",
      "  FitFailedWarning)\n",
      "/Users/gauravbansal1600/opt/anaconda3/lib/python3.7/site-packages/sklearn/model_selection/_validation.py:536: FitFailedWarning: Estimator fit failed. The score on this train-test partition for these parameters will be set to nan. Details: \n",
      "ValueError: could not broadcast input array from shape (185,33) into shape (185,0)\n",
      "\n",
      "  FitFailedWarning)\n",
      "/Users/gauravbansal1600/opt/anaconda3/lib/python3.7/site-packages/sklearn/model_selection/_validation.py:536: FitFailedWarning: Estimator fit failed. The score on this train-test partition for these parameters will be set to nan. Details: \n",
      "ValueError: could not broadcast input array from shape (185,33) into shape (185,0)\n",
      "\n",
      "  FitFailedWarning)\n",
      "/Users/gauravbansal1600/opt/anaconda3/lib/python3.7/site-packages/sklearn/model_selection/_validation.py:536: FitFailedWarning: Estimator fit failed. The score on this train-test partition for these parameters will be set to nan. Details: \n",
      "ValueError: could not broadcast input array from shape (185,33) into shape (185,0)\n",
      "\n",
      "  FitFailedWarning)\n",
      "/Users/gauravbansal1600/opt/anaconda3/lib/python3.7/site-packages/sklearn/model_selection/_validation.py:536: FitFailedWarning: Estimator fit failed. The score on this train-test partition for these parameters will be set to nan. Details: \n",
      "ValueError: could not broadcast input array from shape (184,33) into shape (184,0)\n",
      "\n",
      "  FitFailedWarning)\n",
      "/Users/gauravbansal1600/opt/anaconda3/lib/python3.7/site-packages/sklearn/model_selection/_validation.py:536: FitFailedWarning: Estimator fit failed. The score on this train-test partition for these parameters will be set to nan. Details: \n",
      "ValueError: could not broadcast input array from shape (185,33) into shape (185,0)\n",
      "\n",
      "  FitFailedWarning)\n",
      "/Users/gauravbansal1600/opt/anaconda3/lib/python3.7/site-packages/sklearn/model_selection/_validation.py:536: FitFailedWarning: Estimator fit failed. The score on this train-test partition for these parameters will be set to nan. Details: \n",
      "ValueError: could not broadcast input array from shape (185,33) into shape (185,0)\n",
      "\n",
      "  FitFailedWarning)\n",
      "/Users/gauravbansal1600/opt/anaconda3/lib/python3.7/site-packages/sklearn/model_selection/_validation.py:536: FitFailedWarning: Estimator fit failed. The score on this train-test partition for these parameters will be set to nan. Details: \n",
      "ValueError: could not broadcast input array from shape (185,33) into shape (185,0)\n",
      "\n",
      "  FitFailedWarning)\n",
      "/Users/gauravbansal1600/opt/anaconda3/lib/python3.7/site-packages/sklearn/model_selection/_validation.py:536: FitFailedWarning: Estimator fit failed. The score on this train-test partition for these parameters will be set to nan. Details: \n",
      "ValueError: could not broadcast input array from shape (185,33) into shape (185,0)\n",
      "\n",
      "  FitFailedWarning)\n",
      "/Users/gauravbansal1600/opt/anaconda3/lib/python3.7/site-packages/sklearn/model_selection/_validation.py:536: FitFailedWarning: Estimator fit failed. The score on this train-test partition for these parameters will be set to nan. Details: \n",
      "ValueError: could not broadcast input array from shape (184,33) into shape (184,0)\n",
      "\n",
      "  FitFailedWarning)\n",
      "/Users/gauravbansal1600/opt/anaconda3/lib/python3.7/site-packages/sklearn/model_selection/_validation.py:536: FitFailedWarning: Estimator fit failed. The score on this train-test partition for these parameters will be set to nan. Details: \n",
      "ValueError: could not broadcast input array from shape (185,33) into shape (185,0)\n",
      "\n",
      "  FitFailedWarning)\n",
      "/Users/gauravbansal1600/opt/anaconda3/lib/python3.7/site-packages/sklearn/model_selection/_validation.py:536: FitFailedWarning: Estimator fit failed. The score on this train-test partition for these parameters will be set to nan. Details: \n",
      "ValueError: could not broadcast input array from shape (185,33) into shape (185,0)\n",
      "\n",
      "  FitFailedWarning)\n",
      "/Users/gauravbansal1600/opt/anaconda3/lib/python3.7/site-packages/sklearn/model_selection/_validation.py:536: FitFailedWarning: Estimator fit failed. The score on this train-test partition for these parameters will be set to nan. Details: \n",
      "ValueError: could not broadcast input array from shape (185,33) into shape (185,0)\n",
      "\n",
      "  FitFailedWarning)\n",
      "/Users/gauravbansal1600/opt/anaconda3/lib/python3.7/site-packages/sklearn/model_selection/_validation.py:536: FitFailedWarning: Estimator fit failed. The score on this train-test partition for these parameters will be set to nan. Details: \n",
      "ValueError: could not broadcast input array from shape (185,33) into shape (185,0)\n",
      "\n",
      "  FitFailedWarning)\n",
      "/Users/gauravbansal1600/opt/anaconda3/lib/python3.7/site-packages/sklearn/model_selection/_validation.py:536: FitFailedWarning: Estimator fit failed. The score on this train-test partition for these parameters will be set to nan. Details: \n",
      "ValueError: could not broadcast input array from shape (184,33) into shape (184,0)\n",
      "\n",
      "  FitFailedWarning)\n",
      "/Users/gauravbansal1600/opt/anaconda3/lib/python3.7/site-packages/sklearn/model_selection/_validation.py:536: FitFailedWarning: Estimator fit failed. The score on this train-test partition for these parameters will be set to nan. Details: \n",
      "ValueError: could not broadcast input array from shape (185,33) into shape (185,0)\n",
      "\n",
      "  FitFailedWarning)\n",
      "/Users/gauravbansal1600/opt/anaconda3/lib/python3.7/site-packages/sklearn/model_selection/_validation.py:536: FitFailedWarning: Estimator fit failed. The score on this train-test partition for these parameters will be set to nan. Details: \n",
      "ValueError: could not broadcast input array from shape (185,33) into shape (185,0)\n",
      "\n",
      "  FitFailedWarning)\n",
      "/Users/gauravbansal1600/opt/anaconda3/lib/python3.7/site-packages/sklearn/model_selection/_validation.py:536: FitFailedWarning: Estimator fit failed. The score on this train-test partition for these parameters will be set to nan. Details: \n",
      "ValueError: could not broadcast input array from shape (185,33) into shape (185,0)\n",
      "\n",
      "  FitFailedWarning)\n",
      "/Users/gauravbansal1600/opt/anaconda3/lib/python3.7/site-packages/sklearn/model_selection/_validation.py:536: FitFailedWarning: Estimator fit failed. The score on this train-test partition for these parameters will be set to nan. Details: \n",
      "ValueError: could not broadcast input array from shape (185,33) into shape (185,0)\n",
      "\n",
      "  FitFailedWarning)\n"
     ]
    },
    {
     "name": "stdout",
     "output_type": "stream",
     "text": [
      "\n",
      "Mean Train score --> 0.8919078315148656\n",
      "Mean Test score  --> 0.8022513549534043\n"
     ]
    }
   ],
   "source": [
    "poly_train_score = []\n",
    "poly_test_score =[]\n",
    "poly_train_score.append(cross_val_score(poly_grid,X_train,y_train,cv=5))\n",
    "\n",
    "\n",
    "poly_test_score.append(cross_val_score(poly_grid,X_test,y_test,cv=5))\n",
    "\n",
    "print(\"\\nMean Train score -->\",np.mean(poly_train_score))\n",
    "print(\"Mean Test score  -->\",np.mean(poly_test_score))\n"
   ]
  },
  {
   "cell_type": "markdown",
   "metadata": {},
   "source": [
    "# 5. Select the best Model "
   ]
  },
  {
   "cell_type": "code",
   "execution_count": 591,
   "metadata": {},
   "outputs": [
    {
     "data": {
      "text/html": [
       "<div>\n",
       "<style scoped>\n",
       "    .dataframe tbody tr th:only-of-type {\n",
       "        vertical-align: middle;\n",
       "    }\n",
       "\n",
       "    .dataframe tbody tr th {\n",
       "        vertical-align: top;\n",
       "    }\n",
       "\n",
       "    .dataframe thead th {\n",
       "        text-align: right;\n",
       "    }\n",
       "</style>\n",
       "<table border=\"1\" class=\"dataframe\">\n",
       "  <thead>\n",
       "    <tr style=\"text-align: right;\">\n",
       "      <th></th>\n",
       "      <th>Models</th>\n",
       "      <th>Train_Score</th>\n",
       "      <th>Test_Score</th>\n",
       "      <th>RMSE</th>\n",
       "    </tr>\n",
       "  </thead>\n",
       "  <tbody>\n",
       "    <tr>\n",
       "      <td>0</td>\n",
       "      <td>Linear Regression</td>\n",
       "      <td>91.02</td>\n",
       "      <td>85.14</td>\n",
       "      <td>1.849541e+06</td>\n",
       "    </tr>\n",
       "    <tr>\n",
       "      <td>3</td>\n",
       "      <td>Support Vector Machine_Linear</td>\n",
       "      <td>90.47</td>\n",
       "      <td>84.25</td>\n",
       "      <td>1.959587e+06</td>\n",
       "    </tr>\n",
       "    <tr>\n",
       "      <td>4</td>\n",
       "      <td>K-Near Neighbors</td>\n",
       "      <td>87.45</td>\n",
       "      <td>80.78</td>\n",
       "      <td>2.391082e+06</td>\n",
       "    </tr>\n",
       "    <tr>\n",
       "      <td>2</td>\n",
       "      <td>Lasso Regression</td>\n",
       "      <td>90.95</td>\n",
       "      <td>85.07</td>\n",
       "      <td>2.216708e+15</td>\n",
       "    </tr>\n",
       "    <tr>\n",
       "      <td>1</td>\n",
       "      <td>Ridge Regression</td>\n",
       "      <td>91.01</td>\n",
       "      <td>85.12</td>\n",
       "      <td>2.288073e+15</td>\n",
       "    </tr>\n",
       "    <tr>\n",
       "      <td>5</td>\n",
       "      <td>Polynomial Regression</td>\n",
       "      <td>95.92</td>\n",
       "      <td>54.27</td>\n",
       "      <td>2.909459e+31</td>\n",
       "    </tr>\n",
       "  </tbody>\n",
       "</table>\n",
       "</div>"
      ],
      "text/plain": [
       "                          Models  Train_Score  Test_Score          RMSE\n",
       "0              Linear Regression        91.02       85.14  1.849541e+06\n",
       "3  Support Vector Machine_Linear        90.47       84.25  1.959587e+06\n",
       "4               K-Near Neighbors        87.45       80.78  2.391082e+06\n",
       "2               Lasso Regression        90.95       85.07  2.216708e+15\n",
       "1               Ridge Regression        91.01       85.12  2.288073e+15\n",
       "5          Polynomial Regression        95.92       54.27  2.909459e+31"
      ]
     },
     "execution_count": 591,
     "metadata": {},
     "output_type": "execute_result"
    }
   ],
   "source": [
    "from sklearn.metrics import r2_score\n",
    "models = pd.DataFrame({\n",
    "                'Models': ['Linear Regression','Ridge Regression','Lasso Regression','Support Vector Machine_Linear','K-Near Neighbors','Polynomial Regression'],\n",
    "                'Train_Score':[lreg_score_train, ridge_score_train, lasso_score_train, SVR_reg_train_score, knn_reg_train_score, poly_score_train] ,\n",
    "                'Test_Score': [lreg_score_test, ridge_score_test, lasso_score_test, SVR_reg_test_score, knn_reg_test_score, poly_score_test],\n",
    "                'RMSE': [rmse_lreg, rmse_ridge, rmse_lasso,rmse_SVR, rmse_knn, rmse_poly ]   \n",
    "})\n",
    "                \n",
    "\n",
    "models.sort_values(by='RMSE', ascending=True)"
   ]
  },
  {
   "cell_type": "markdown",
   "metadata": {},
   "source": [
    "## Conclusion"
   ]
  },
  {
   "cell_type": "code",
   "execution_count": 594,
   "metadata": {},
   "outputs": [
    {
     "name": "stdout",
     "output_type": "stream",
     "text": [
      "0.851350409228317\n"
     ]
    }
   ],
   "source": [
    "from sklearn.metrics import r2_score\n",
    "lin_Rsq = r2_score(y_test, pred)\n",
    "print(lin_Rsq)"
   ]
  },
  {
   "cell_type": "markdown",
   "metadata": {},
   "source": [
    "## Linear Regression has the highest test score accuracy with lowest RMSE value so It is the best model among all the model. "
   ]
  },
  {
   "cell_type": "code",
   "execution_count": null,
   "metadata": {},
   "outputs": [],
   "source": []
  }
 ],
 "metadata": {
  "kernelspec": {
   "display_name": "Python 3",
   "language": "python",
   "name": "python3"
  },
  "language_info": {
   "codemirror_mode": {
    "name": "ipython",
    "version": 3
   },
   "file_extension": ".py",
   "mimetype": "text/x-python",
   "name": "python",
   "nbconvert_exporter": "python",
   "pygments_lexer": "ipython3",
   "version": "3.7.4"
  }
 },
 "nbformat": 4,
 "nbformat_minor": 2
}
